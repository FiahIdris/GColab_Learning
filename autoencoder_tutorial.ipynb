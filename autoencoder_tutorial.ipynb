{
  "nbformat": 4,
  "nbformat_minor": 0,
  "metadata": {
    "colab": {
      "name": "autoencoder_tutorial.ipynb",
      "provenance": [],
      "include_colab_link": true
    },
    "kernelspec": {
      "name": "python3",
      "display_name": "Python 3"
    },
    "language_info": {
      "name": "python"
    },
    "accelerator": "GPU"
  },
  "cells": [
    {
      "cell_type": "markdown",
      "metadata": {
        "id": "view-in-github",
        "colab_type": "text"
      },
      "source": [
        "<a href=\"https://colab.research.google.com/github/FiahIdris/GColab_Learning/blob/main/autoencoder_tutorial.ipynb\" target=\"_parent\"><img src=\"https://colab.research.google.com/assets/colab-badge.svg\" alt=\"Open In Colab\"/></a>"
      ]
    },
    {
      "cell_type": "code",
      "metadata": {
        "id": "EXgFGSQMHlfJ"
      },
      "source": [
        "# import library\n",
        "\n",
        "import tensorflow as tf\n",
        "import matplotlib.pyplot as plt"
      ],
      "execution_count": null,
      "outputs": []
    },
    {
      "cell_type": "code",
      "metadata": {
        "id": "zVhcr9A3HxTi"
      },
      "source": [
        "# download data MNIST\n",
        "(X_train, y_train), (X_test, y_test) = tf.keras.datasets.mnist.load_data()\n",
        "X_train = X_train / 255.0\n",
        "X_test = X_test / 255.0"
      ],
      "execution_count": null,
      "outputs": []
    },
    {
      "cell_type": "code",
      "metadata": {
        "colab": {
          "base_uri": "https://localhost:8080/"
        },
        "id": "Kh-pq_heIFwd",
        "outputId": "31e4a0ad-7b6b-4914-cf04-cb742c58ae79"
      },
      "source": [
        "# encoder\n",
        "X_train[0].shape"
      ],
      "execution_count": null,
      "outputs": [
        {
          "output_type": "execute_result",
          "data": {
            "text/plain": [
              "(28, 28)"
            ]
          },
          "metadata": {},
          "execution_count": 31
        }
      ]
    },
    {
      "cell_type": "code",
      "metadata": {
        "id": "k78SSH0lINXZ"
      },
      "source": [
        "encoder = tf.keras.models.Sequential([\n",
        "            tf.keras.layers.Flatten(input_shape=[28, 28]),\n",
        "            tf.keras.layers.Dense(128, activation='relu'),\n",
        "            tf.keras.layers.Dense(64, activation='relu'),\n",
        "            tf.keras.layers.Dense(30, activation='relu')\n",
        "\n",
        "])"
      ],
      "execution_count": null,
      "outputs": []
    },
    {
      "cell_type": "code",
      "metadata": {
        "id": "YYsg2cS3I6-_"
      },
      "source": [
        "decoder = tf.keras.models.Sequential([\n",
        "            tf.keras.layers.Dense(64, activation='relu'),\n",
        "            tf.keras.layers.Dense(128, activation='relu'),\n",
        "            tf.keras.layers.Dense(28*28, activation='sigmoid'),\n",
        "            tf.keras.layers.Reshape([28, 28])\n",
        "])"
      ],
      "execution_count": null,
      "outputs": []
    },
    {
      "cell_type": "code",
      "metadata": {
        "id": "ZLA9OLDsJU22"
      },
      "source": [
        "autoencoder = tf.keras.models.Sequential([encoder, decoder])"
      ],
      "execution_count": null,
      "outputs": []
    },
    {
      "cell_type": "code",
      "metadata": {
        "colab": {
          "base_uri": "https://localhost:8080/"
        },
        "id": "HVojoD1JJlYr",
        "outputId": "14801e78-d5a5-4e47-9170-169177dd12f3"
      },
      "source": [
        "autoencoder.summary()"
      ],
      "execution_count": null,
      "outputs": [
        {
          "output_type": "stream",
          "name": "stdout",
          "text": [
            "Model: \"sequential_5\"\n",
            "_________________________________________________________________\n",
            "Layer (type)                 Output Shape              Param #   \n",
            "=================================================================\n",
            "sequential_3 (Sequential)    (None, 30)                110686    \n",
            "_________________________________________________________________\n",
            "sequential_4 (Sequential)    (None, 28, 28)            111440    \n",
            "=================================================================\n",
            "Total params: 222,126\n",
            "Trainable params: 222,126\n",
            "Non-trainable params: 0\n",
            "_________________________________________________________________\n"
          ]
        }
      ]
    },
    {
      "cell_type": "code",
      "metadata": {
        "id": "-f1qzT4-KHmc"
      },
      "source": [
        "autoencoder.compile(loss='binary_crossentropy',\n",
        "                    optimizer='adam')"
      ],
      "execution_count": null,
      "outputs": []
    },
    {
      "cell_type": "code",
      "metadata": {
        "colab": {
          "base_uri": "https://localhost:8080/"
        },
        "id": "naRpL2WoLhi0",
        "outputId": "726c3996-1f20-425d-b71a-ffc3ac21bb48"
      },
      "source": [
        "autoencoder.fit(X_train, X_train,  epochs=10)"
      ],
      "execution_count": null,
      "outputs": [
        {
          "output_type": "stream",
          "name": "stdout",
          "text": [
            "Epoch 1/10\n",
            "1875/1875 [==============================] - 6s 3ms/step - loss: 0.1525\n",
            "Epoch 2/10\n",
            "1875/1875 [==============================] - 6s 3ms/step - loss: 0.1098\n",
            "Epoch 3/10\n",
            "1875/1875 [==============================] - 6s 3ms/step - loss: 0.1013\n",
            "Epoch 4/10\n",
            "1875/1875 [==============================] - 6s 3ms/step - loss: 0.0970\n",
            "Epoch 5/10\n",
            "1875/1875 [==============================] - 6s 3ms/step - loss: 0.0938\n",
            "Epoch 6/10\n",
            "1875/1875 [==============================] - 6s 3ms/step - loss: 0.0914\n",
            "Epoch 7/10\n",
            "1875/1875 [==============================] - 6s 3ms/step - loss: 0.0898\n",
            "Epoch 8/10\n",
            "1875/1875 [==============================] - 6s 3ms/step - loss: 0.0886\n",
            "Epoch 9/10\n",
            "1875/1875 [==============================] - 6s 3ms/step - loss: 0.0878\n",
            "Epoch 10/10\n",
            "1875/1875 [==============================] - 6s 3ms/step - loss: 0.0872\n"
          ]
        },
        {
          "output_type": "execute_result",
          "data": {
            "text/plain": [
              "<keras.callbacks.History at 0x7f7e60760d10>"
            ]
          },
          "metadata": {},
          "execution_count": 37
        }
      ]
    },
    {
      "cell_type": "code",
      "metadata": {
        "colab": {
          "base_uri": "https://localhost:8080/",
          "height": 282
        },
        "id": "hQ1sx5aEMWz4",
        "outputId": "a4aabfd6-49f2-4c4f-b03d-e371e39553be"
      },
      "source": [
        "plt.imshow(X_test[100], cmap='binary')"
      ],
      "execution_count": null,
      "outputs": [
        {
          "output_type": "execute_result",
          "data": {
            "text/plain": [
              "<matplotlib.image.AxesImage at 0x7f7e63595690>"
            ]
          },
          "metadata": {},
          "execution_count": 26
        },
        {
          "output_type": "display_data",
          "data": {
            "image/png": "[encoded data removed]",
            "text/plain": [
              "<Figure size 432x288 with 1 Axes>"
            ]
          },
          "metadata": {
            "needs_background": "light"
          }
        }
      ]
    },
    {
      "cell_type": "code",
      "metadata": {
        "colab": {
          "base_uri": "https://localhost:8080/",
          "height": 282
        },
        "id": "WZw_Vt1jMzkB",
        "outputId": "39051ba1-6c7e-4f04-8cfc-48e23d6c54d9"
      },
      "source": [
        "pred = autoencoder.predict(X_test[100].reshape((1,28,28)))\n",
        "plt.imshow(pred.reshape((28,28)), cmap='binary')"
      ],
      "execution_count": null,
      "outputs": [
        {
          "output_type": "execute_result",
          "data": {
            "text/plain": [
              "<matplotlib.image.AxesImage at 0x7f7e634a3a90>"
            ]
          },
          "metadata": {},
          "execution_count": 27
        },
        {
          "output_type": "display_data",
          "data": {
            "image/png": "[encoded data removed]",
            "text/plain": [
              "<Figure size 432x288 with 1 Axes>"
            ]
          },
          "metadata": {
            "needs_background": "light"
          }
        }
      ]
    },
    {
      "cell_type": "code",
      "metadata": {
        "colab": {
          "base_uri": "https://localhost:8080/",
          "height": 205
        },
        "id": "uoCnxHtcLoNK",
        "outputId": "312c02f0-40bf-4ffe-eb95-0e316457bc31"
      },
      "source": [
        "import matplotlib.pyplot as plt\n",
        "for i in range(8):\n",
        "  plt.subplot(2, 8, i+1)\n",
        "  pred = autoencoder.predict(X_test[i].reshape((1,28,28)))\n",
        "  plt.imshow(X_test[i], cmap='binary')\n",
        "\n",
        "  plt.subplot(2, 8, i+8+1)\n",
        "  plt.imshow(pred.reshape((28,28)), cmap='binary')"
      ],
      "execution_count": null,
      "outputs": [
        {
          "output_type": "display_data",
          "data": {
            "image/png": "[encoded data removed]",
            "text/plain": [
              "<Figure size 432x288 with 16 Axes>"
            ]
          },
          "metadata": {
            "needs_background": "light"
          }
        }
      ]
    },
    {
      "cell_type": "code",
      "metadata": {
        "colab": {
          "base_uri": "https://localhost:8080/",
          "height": 282
        },
        "id": "oF3gzI9nNtx6",
        "outputId": "e69d94ca-cde6-465e-cb94-68081b1c61e7"
      },
      "source": [
        "data_ke =500\n",
        "\n",
        "plt.imshow(X_test[data_ke], cmap='binary')"
      ],
      "execution_count": null,
      "outputs": [
        {
          "output_type": "execute_result",
          "data": {
            "text/plain": [
              "<matplotlib.image.AxesImage at 0x7f7e63570210>"
            ]
          },
          "metadata": {},
          "execution_count": 46
        },
        {
          "output_type": "display_data",
          "data": {
            "image/png": "[encoded data removed]",
            "text/plain": [
              "<Figure size 432x288 with 1 Axes>"
            ]
          },
          "metadata": {
            "needs_background": "light"
          }
        }
      ]
    },
    {
      "cell_type": "code",
      "metadata": {
        "colab": {
          "base_uri": "https://localhost:8080/",
          "height": 80
        },
        "id": "O_Fi7HWIP3Ys",
        "outputId": "3674f796-0064-4d3a-b448-b9605bb7ce74"
      },
      "source": [
        "latent_vector = encoder.predict(X_test[data_ke].reshape((1,28,28)))\n",
        "plt.imshow(latent_vector, cmap=\"binary\")"
      ],
      "execution_count": null,
      "outputs": [
        {
          "output_type": "execute_result",
          "data": {
            "text/plain": [
              "<matplotlib.image.AxesImage at 0x7f7e608ad6d0>"
            ]
          },
          "metadata": {},
          "execution_count": 47
        },
        {
          "output_type": "display_data",
          "data": {
            "image/png": "[encoded data removed]",
            "text/plain": [
              "<Figure size 432x288 with 1 Axes>"
            ]
          },
          "metadata": {
            "needs_background": "light"
          }
        }
      ]
    },
    {
      "cell_type": "code",
      "metadata": {
        "colab": {
          "base_uri": "https://localhost:8080/",
          "height": 282
        },
        "id": "sHC3GNOrQFa3",
        "outputId": "58987bc8-71cf-4016-d384-0f53f8ee3b84"
      },
      "source": [
        "prediction = autoencoder.predict(X_test[data_ke].reshape((1,28,28)))\n",
        "plt.imshow(prediction.reshape((28,28)), cmap=\"binary\")"
      ],
      "execution_count": null,
      "outputs": [
        {
          "output_type": "execute_result",
          "data": {
            "text/plain": [
              "<matplotlib.image.AxesImage at 0x7f7e65012750>"
            ]
          },
          "metadata": {},
          "execution_count": 48
        },
        {
          "output_type": "display_data",
          "data": {
            "image/png": "[encoded data removed]",
            "text/plain": [
              "<Figure size 432x288 with 1 Axes>"
            ]
          },
          "metadata": {
            "needs_background": "light"
          }
        }
      ]
    },
    {
      "cell_type": "code",
      "metadata": {
        "id": "fUT1F2-zQXV1"
      },
      "source": [
        "res = decoder.predict(latent_vector)"
      ],
      "execution_count": null,
      "outputs": []
    },
    {
      "cell_type": "code",
      "metadata": {
        "id": "owdM5E8nRJw4"
      },
      "source": [
        "latent_0 = encoder.predict(X_test[6].reshape((1,28,28)))\n",
        "latent_2 = encoder.predict(X_test[7].reshape((1,28,28)))"
      ],
      "execution_count": null,
      "outputs": []
    },
    {
      "cell_type": "code",
      "metadata": {
        "id": "vyd2KRHARlik"
      },
      "source": [
        "latent_eksperimen = 0.75*latent_0 + 0.25*latent_2"
      ],
      "execution_count": null,
      "outputs": []
    },
    {
      "cell_type": "code",
      "metadata": {
        "colab": {
          "base_uri": "https://localhost:8080/",
          "height": 282
        },
        "id": "-TAmxbPlRxHI",
        "outputId": "6528cc85-d03a-491d-ffea-bd1fda4f03d1"
      },
      "source": [
        "prediksi = decoder.predict(latent_eksperimen)\n",
        "plt.imshow(prediksi.reshape((28,28)), cmap=\"binary\")"
      ],
      "execution_count": null,
      "outputs": [
        {
          "output_type": "execute_result",
          "data": {
            "text/plain": [
              "<matplotlib.image.AxesImage at 0x7f7e604b7c50>"
            ]
          },
          "metadata": {},
          "execution_count": 59
        },
        {
          "output_type": "display_data",
          "data": {
            "image/png": "[encoded data removed]",
            "text/plain": [
              "<Figure size 432x288 with 1 Axes>"
            ]
          },
          "metadata": {
            "needs_background": "light"
          }
        }
      ]
    },
    {
      "cell_type": "code",
      "metadata": {
        "id": "cyX5Hb5cR-Xp"
      },
      "source": [
        "# Autoencoder CNN\n",
        "encoder = tf.keras.models.Sequential([\n",
        "                tf.keras.layers.Reshape([28, 28, 1], input_shape=[28, 28]),\n",
        "                tf.keras.layers.Conv2D(16, kernel_size=(3,3), padding='same', activation='relu'),\n",
        "                tf.keras.layers.MaxPool2D(pool_size=2),\n",
        "                tf.keras.layers.Conv2D(32, kernel_size=(3,3), padding='same', activation='relu'),\n",
        "                tf.keras.layers.MaxPool2D(pool_size=2),\n",
        "                tf.keras.layers.Conv2D(64, kernel_size=(3,3), padding='same', activation='relu'),\n",
        "                tf.keras.layers.MaxPool2D(pool_size=2),\n",
        "])"
      ],
      "execution_count": null,
      "outputs": []
    },
    {
      "cell_type": "code",
      "metadata": {
        "id": "FYYD0TG1T_vK"
      },
      "source": [
        "decoder = tf.keras.models.Sequential([\n",
        "                 tf.keras.layers.Conv2DTranspose(32, kernel_size=(3,3), strides=2, padding='valid',\n",
        "                                                 activation='relu',\n",
        "                                                 input_shape=[3, 3, 64]),\n",
        "                 tf.keras.layers.Conv2DTranspose(16, kernel_size=(3,3), strides=2, padding='same',\n",
        "                                                 activation='relu'),\n",
        "                 tf.keras.layers.Conv2DTranspose(1, kernel_size=(3,3), strides=2, padding='same',\n",
        "                                                 activation='sigmoid'),\n",
        "                 tf.keras.layers.Reshape([28,28])\n",
        "])"
      ],
      "execution_count": null,
      "outputs": []
    },
    {
      "cell_type": "code",
      "metadata": {
        "id": "itWzZ7lOU6Yx"
      },
      "source": [
        "autoencoder = tf.keras.models.Sequential([encoder, decoder])"
      ],
      "execution_count": null,
      "outputs": []
    },
    {
      "cell_type": "code",
      "metadata": {
        "id": "9oeYvQluVUAS"
      },
      "source": [
        "autoencoder.compile(loss='binary_crossentropy', optimizer='adam')"
      ],
      "execution_count": null,
      "outputs": []
    },
    {
      "cell_type": "code",
      "metadata": {
        "colab": {
          "base_uri": "https://localhost:8080/"
        },
        "id": "4rnf-wLfVaWA",
        "outputId": "430e0eb1-067d-4801-f6c4-98d592a61ce7"
      },
      "source": [
        "autoencoder.fit(X_train, X_train,  epochs=10)"
      ],
      "execution_count": null,
      "outputs": [
        {
          "output_type": "stream",
          "name": "stdout",
          "text": [
            "Epoch 1/10\n",
            "1875/1875 [==============================] - 37s 6ms/step - loss: 0.1223\n",
            "Epoch 2/10\n",
            "1875/1875 [==============================] - 10s 6ms/step - loss: 0.0812\n",
            "Epoch 3/10\n",
            "1875/1875 [==============================] - 10s 6ms/step - loss: 0.0767\n",
            "Epoch 4/10\n",
            "1875/1875 [==============================] - 10s 6ms/step - loss: 0.0741\n",
            "Epoch 5/10\n",
            "1875/1875 [==============================] - 10s 6ms/step - loss: 0.0724\n",
            "Epoch 6/10\n",
            "1875/1875 [==============================] - 10s 5ms/step - loss: 0.0714\n",
            "Epoch 7/10\n",
            "1875/1875 [==============================] - 10s 5ms/step - loss: 0.0707\n",
            "Epoch 8/10\n",
            "1875/1875 [==============================] - 10s 5ms/step - loss: 0.0701\n",
            "Epoch 9/10\n",
            "1875/1875 [==============================] - 10s 5ms/step - loss: 0.0696\n",
            "Epoch 10/10\n",
            "1875/1875 [==============================] - 10s 5ms/step - loss: 0.0692\n"
          ]
        },
        {
          "output_type": "execute_result",
          "data": {
            "text/plain": [
              "<keras.callbacks.History at 0x7f7e63256650>"
            ]
          },
          "metadata": {},
          "execution_count": 68
        }
      ]
    },
    {
      "cell_type": "code",
      "metadata": {
        "id": "VvwdmkPbVdPE"
      },
      "source": [
        ""
      ],
      "execution_count": null,
      "outputs": []
    },
    {
      "cell_type": "markdown",
      "metadata": {
        "id": "nH_vSykpWu6_"
      },
      "source": [
        "# Denoising Autoencoder"
      ]
    },
    {
      "cell_type": "code",
      "metadata": {
        "colab": {
          "base_uri": "https://localhost:8080/",
          "height": 282
        },
        "id": "8GCVXPqWW0P6",
        "outputId": "ebc641c7-25cc-45fa-bea5-63ddb9bce635"
      },
      "source": [
        "import numpy as np\n",
        "noise = np.random.random((28,28))/4\n",
        "plt.imshow(X_test[0]+ noise, cmap='binary')"
      ],
      "execution_count": null,
      "outputs": [
        {
          "output_type": "execute_result",
          "data": {
            "text/plain": [
              "<matplotlib.image.AxesImage at 0x7f7e60283f10>"
            ]
          },
          "metadata": {},
          "execution_count": 72
        },
        {
          "output_type": "display_data",
          "data": {
            "image/png": "[encoded data removed]",
            "text/plain": [
              "<Figure size 432x288 with 1 Axes>"
            ]
          },
          "metadata": {
            "needs_background": "light"
          }
        }
      ]
    },
    {
      "cell_type": "code",
      "metadata": {
        "colab": {
          "base_uri": "https://localhost:8080/",
          "height": 282
        },
        "id": "0Gl_3hZ2XC-i",
        "outputId": "565ea840-b831-4f29-852e-23cc40af63a1"
      },
      "source": [
        "plt.imshow(X_test[0], cmap='binary')"
      ],
      "execution_count": null,
      "outputs": [
        {
          "output_type": "execute_result",
          "data": {
            "text/plain": [
              "<matplotlib.image.AxesImage at 0x7f7e601efdd0>"
            ]
          },
          "metadata": {},
          "execution_count": 74
        },
        {
          "output_type": "display_data",
          "data": {
            "image/png": "[encoded data removed]",
            "text/plain": [
              "<Figure size 432x288 with 1 Axes>"
            ]
          },
          "metadata": {
            "needs_background": "light"
          }
        }
      ]
    },
    {
      "cell_type": "code",
      "metadata": {
        "id": "crkWlc__XLl_"
      },
      "source": [
        "encoder = tf.keras.models.Sequential([\n",
        "            tf.keras.layers.Flatten(input_shape=[28, 28]),\n",
        "            tf.keras.layers.Dense(128, activation='relu'),\n",
        "            tf.keras.layers.Dense(64, activation='relu'),\n",
        "            tf.keras.layers.Dense(30, activation='relu')\n",
        "\n",
        "])"
      ],
      "execution_count": null,
      "outputs": []
    },
    {
      "cell_type": "code",
      "metadata": {
        "id": "nP7dHKh1XTYi"
      },
      "source": [
        "decoder = tf.keras.models.Sequential([\n",
        "            tf.keras.layers.Dense(64, activation='relu'),\n",
        "            tf.keras.layers.Dense(128, activation='relu'),\n",
        "            tf.keras.layers.Dense(28*28, activation='sigmoid'),\n",
        "            tf.keras.layers.Reshape([28, 28])\n",
        "])"
      ],
      "execution_count": null,
      "outputs": []
    },
    {
      "cell_type": "code",
      "metadata": {
        "id": "9wFpKIxWXYqi"
      },
      "source": [
        "autoencoder = tf.keras.models.Sequential([encoder, decoder])\n",
        "autoencoder.compile(loss='binary_crossentropy',\n",
        "                    optimizer='adam')"
      ],
      "execution_count": null,
      "outputs": []
    },
    {
      "cell_type": "code",
      "metadata": {
        "id": "sSt-ih5vXfDM"
      },
      "source": [
        "noise = np.random.random((28,28))/4\n",
        "X_train_noise = X_train + noise\n"
      ],
      "execution_count": null,
      "outputs": []
    },
    {
      "cell_type": "code",
      "metadata": {
        "id": "gayqVGkJYMSj"
      },
      "source": [
        "X_test_noise = X_test + noise"
      ],
      "execution_count": null,
      "outputs": []
    },
    {
      "cell_type": "code",
      "metadata": {
        "colab": {
          "base_uri": "https://localhost:8080/"
        },
        "id": "_G61FTPjXmnV",
        "outputId": "7e6cfaf8-11e6-4358-ad39-ff443a8eb9e1"
      },
      "source": [
        "autoencoder.fit(X_train_noise, X_train, epochs=10)"
      ],
      "execution_count": null,
      "outputs": [
        {
          "output_type": "stream",
          "name": "stdout",
          "text": [
            "Epoch 1/10\n",
            "1875/1875 [==============================] - 6s 3ms/step - loss: 0.1573\n",
            "Epoch 2/10\n",
            "1875/1875 [==============================] - 6s 3ms/step - loss: 0.1152\n",
            "Epoch 3/10\n",
            "1875/1875 [==============================] - 6s 3ms/step - loss: 0.1067\n",
            "Epoch 4/10\n",
            "1875/1875 [==============================] - 5s 3ms/step - loss: 0.1021\n",
            "Epoch 5/10\n",
            "1875/1875 [==============================] - 6s 3ms/step - loss: 0.0995\n",
            "Epoch 6/10\n",
            "1875/1875 [==============================] - 5s 3ms/step - loss: 0.0972\n",
            "Epoch 7/10\n",
            "1875/1875 [==============================] - 5s 3ms/step - loss: 0.0953\n",
            "Epoch 8/10\n",
            "1875/1875 [==============================] - 6s 3ms/step - loss: 0.0937\n",
            "Epoch 9/10\n",
            "1875/1875 [==============================] - 5s 3ms/step - loss: 0.0925\n",
            "Epoch 10/10\n",
            "1875/1875 [==============================] - 6s 3ms/step - loss: 0.0916\n"
          ]
        },
        {
          "output_type": "execute_result",
          "data": {
            "text/plain": [
              "<keras.callbacks.History at 0x7f7e6013c150>"
            ]
          },
          "metadata": {},
          "execution_count": 80
        }
      ]
    },
    {
      "cell_type": "code",
      "metadata": {
        "colab": {
          "base_uri": "https://localhost:8080/",
          "height": 205
        },
        "id": "nYLeGk6oXtbR",
        "outputId": "fdcc46d1-f1c0-4796-db9f-13e3318d804e"
      },
      "source": [
        "for i in range(8):\n",
        "  plt.subplot(2, 8, i+1)\n",
        "  pred = autoencoder.predict(X_test_noise[i].reshape((1,28,28)))\n",
        "  plt.imshow(X_test_noise[i], cmap='binary')\n",
        "\n",
        "  plt.subplot(2, 8, i+8+1)\n",
        "  plt.imshow(pred.reshape((28,28)), cmap='binary')"
      ],
      "execution_count": null,
      "outputs": [
        {
          "output_type": "display_data",
          "data": {
            "image/png": "[encoded data removed]",
            "text/plain": [
              "<Figure size 432x288 with 16 Axes>"
            ]
          },
          "metadata": {
            "needs_background": "light"
          }
        }
      ]
    },
    {
      "cell_type": "code",
      "metadata": {
        "colab": {
          "base_uri": "https://localhost:8080/",
          "height": 282
        },
        "id": "zwKsulYsYR_R",
        "outputId": "70e18b17-4997-421c-b553-478861261989"
      },
      "source": [
        "plt.imshow(X_test_noise[700], cmap='binary')"
      ],
      "execution_count": null,
      "outputs": [
        {
          "output_type": "execute_result",
          "data": {
            "text/plain": [
              "<matplotlib.image.AxesImage at 0x7f7e029eb210>"
            ]
          },
          "metadata": {},
          "execution_count": 87
        },
        {
          "output_type": "display_data",
          "data": {
            "image/png": "[encoded data removed]",
            "text/plain": [
              "<Figure size 432x288 with 1 Axes>"
            ]
          },
          "metadata": {
            "needs_background": "light"
          }
        }
      ]
    },
    {
      "cell_type": "code",
      "metadata": {
        "colab": {
          "base_uri": "https://localhost:8080/",
          "height": 282
        },
        "id": "SDN4TczAYi26",
        "outputId": "aae632a1-a66c-4b72-c903-eedbb0438806"
      },
      "source": [
        "pred = autoencoder.predict(X_test_noise[700].reshape((1,28,28)))\n",
        "plt.imshow(pred.reshape((28,28)), cmap='binary')"
      ],
      "execution_count": null,
      "outputs": [
        {
          "output_type": "execute_result",
          "data": {
            "text/plain": [
              "<matplotlib.image.AxesImage at 0x7f7e028f4a90>"
            ]
          },
          "metadata": {},
          "execution_count": 88
        },
        {
          "output_type": "display_data",
          "data": {
            "image/png": "[encoded data removed]",
            "text/plain": [
              "<Figure size 432x288 with 1 Axes>"
            ]
          },
          "metadata": {
            "needs_background": "light"
          }
        }
      ]
    },
    {
      "cell_type": "code",
      "metadata": {
        "id": "W4z9FiekYuhR"
      },
      "source": [
        ""
      ],
      "execution_count": null,
      "outputs": []
    }
  ]
}