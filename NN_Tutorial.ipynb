{
  "nbformat": 4,
  "nbformat_minor": 0,
  "metadata": {
    "colab": {
      "name": "NN Tutorial.ipynb",
      "provenance": [],
      "include_colab_link": true
    },
    "kernelspec": {
      "name": "python3",
      "display_name": "Python 3"
    },
    "language_info": {
      "name": "python"
    }
  },
  "cells": [
    {
      "cell_type": "markdown",
      "metadata": {
        "id": "view-in-github",
        "colab_type": "text"
      },
      "source": [
        "<a href=\"https://colab.research.google.com/github/FiahIdris/GColab_Learning/blob/main/NN_Tutorial.ipynb\" target=\"_parent\"><img src=\"https://colab.research.google.com/assets/colab-badge.svg\" alt=\"Open In Colab\"/></a>"
      ]
    },
    {
      "cell_type": "code",
      "execution_count": null,
      "metadata": {
        "colab": {
          "base_uri": "https://localhost:8080/",
          "height": 206
        },
        "id": "Hk28-8B_gTSb",
        "outputId": "42bc3771-1dbb-4422-98cb-9dba47fe3714"
      },
      "outputs": [
        {
          "output_type": "execute_result",
          "data": {
            "text/html": [
              "<div>\n",
              "<style scoped>\n",
              "    .dataframe tbody tr th:only-of-type {\n",
              "        vertical-align: middle;\n",
              "    }\n",
              "\n",
              "    .dataframe tbody tr th {\n",
              "        vertical-align: top;\n",
              "    }\n",
              "\n",
              "    .dataframe thead th {\n",
              "        text-align: right;\n",
              "    }\n",
              "</style>\n",
              "<table border=\"1\" class=\"dataframe\">\n",
              "  <thead>\n",
              "    <tr style=\"text-align: right;\">\n",
              "      <th></th>\n",
              "      <th>Pregnancies</th>\n",
              "      <th>Glucose</th>\n",
              "      <th>BloodPressure</th>\n",
              "      <th>SkinThickness</th>\n",
              "      <th>Insulin</th>\n",
              "      <th>BMI</th>\n",
              "      <th>DiabetesPedigreeFunction</th>\n",
              "      <th>Age</th>\n",
              "      <th>Outcome</th>\n",
              "    </tr>\n",
              "  </thead>\n",
              "  <tbody>\n",
              "    <tr>\n",
              "      <th>0</th>\n",
              "      <td>6</td>\n",
              "      <td>148</td>\n",
              "      <td>72</td>\n",
              "      <td>35</td>\n",
              "      <td>0</td>\n",
              "      <td>33.6</td>\n",
              "      <td>0.627</td>\n",
              "      <td>50</td>\n",
              "      <td>1</td>\n",
              "    </tr>\n",
              "    <tr>\n",
              "      <th>1</th>\n",
              "      <td>1</td>\n",
              "      <td>85</td>\n",
              "      <td>66</td>\n",
              "      <td>29</td>\n",
              "      <td>0</td>\n",
              "      <td>26.6</td>\n",
              "      <td>0.351</td>\n",
              "      <td>31</td>\n",
              "      <td>0</td>\n",
              "    </tr>\n",
              "    <tr>\n",
              "      <th>2</th>\n",
              "      <td>8</td>\n",
              "      <td>183</td>\n",
              "      <td>64</td>\n",
              "      <td>0</td>\n",
              "      <td>0</td>\n",
              "      <td>23.3</td>\n",
              "      <td>0.672</td>\n",
              "      <td>32</td>\n",
              "      <td>1</td>\n",
              "    </tr>\n",
              "    <tr>\n",
              "      <th>3</th>\n",
              "      <td>1</td>\n",
              "      <td>89</td>\n",
              "      <td>66</td>\n",
              "      <td>23</td>\n",
              "      <td>94</td>\n",
              "      <td>28.1</td>\n",
              "      <td>0.167</td>\n",
              "      <td>21</td>\n",
              "      <td>0</td>\n",
              "    </tr>\n",
              "    <tr>\n",
              "      <th>4</th>\n",
              "      <td>0</td>\n",
              "      <td>137</td>\n",
              "      <td>40</td>\n",
              "      <td>35</td>\n",
              "      <td>168</td>\n",
              "      <td>43.1</td>\n",
              "      <td>2.288</td>\n",
              "      <td>33</td>\n",
              "      <td>1</td>\n",
              "    </tr>\n",
              "  </tbody>\n",
              "</table>\n",
              "</div>"
            ],
            "text/plain": [
              "   Pregnancies  Glucose  BloodPressure  ...  DiabetesPedigreeFunction  Age  Outcome\n",
              "0            6      148             72  ...                     0.627   50        1\n",
              "1            1       85             66  ...                     0.351   31        0\n",
              "2            8      183             64  ...                     0.672   32        1\n",
              "3            1       89             66  ...                     0.167   21        0\n",
              "4            0      137             40  ...                     2.288   33        1\n",
              "\n",
              "[5 rows x 9 columns]"
            ]
          },
          "metadata": {},
          "execution_count": 2
        }
      ],
      "source": [
        "# load data\n",
        "import pandas as pd\n",
        "df = pd.read_csv(\"https://raw.githubusercontent.com/ardhiraka/PFDS_sources/master/diabetes.csv\")\n",
        "df.head()"
      ]
    },
    {
      "cell_type": "code",
      "source": [
        "X = df.drop('Outcome', axis=1)\n",
        "y = df['Outcome']"
      ],
      "metadata": {
        "id": "uJ67PyanhDKA"
      },
      "execution_count": null,
      "outputs": []
    },
    {
      "cell_type": "code",
      "source": [
        "from sklearn.model_selection import train_test_split\n",
        "X_train, X_test, y_train, y_test = train_test_split(X, y, test_size=0.15)"
      ],
      "metadata": {
        "id": "jhwNNVpVjLpe"
      },
      "execution_count": null,
      "outputs": []
    },
    {
      "cell_type": "code",
      "source": [
        "X_train, X_val, y_train, y_val = train_test_split(X_train, y_train, test_size=0.1)"
      ],
      "metadata": {
        "id": "gMpv2NrEjZzg"
      },
      "execution_count": null,
      "outputs": []
    },
    {
      "cell_type": "code",
      "source": [
        "# sequential\n",
        "from tensorflow.keras.models import Sequential\n",
        "from tensorflow.keras.layers import Dense\n",
        "\n",
        "# define model\n",
        "model = Sequential()\n",
        "model.add(Dense(4, input_shape=(8,), activation='relu'))\n",
        "model.add(Dense(1, activation='sigmoid')) # binary : sigmoid, multiclass: softmax"
      ],
      "metadata": {
        "id": "mmu3_3mshksN"
      },
      "execution_count": null,
      "outputs": []
    },
    {
      "cell_type": "code",
      "source": [
        "from tensorflow.keras import Model\n",
        "from tensorflow.keras import Input\n",
        "\n",
        "input_data = Input(shape=(8,))\n",
        "x = Dense(4, activation='relu')(input_data)\n",
        "output = Dense(1, activation='sigmoid')(x)\n",
        "model_func = Model(inputs=input_data, outputs=output)"
      ],
      "metadata": {
        "id": "vz4gU4zAofwi"
      },
      "execution_count": null,
      "outputs": []
    },
    {
      "cell_type": "code",
      "source": [
        "model_func.summary()"
      ],
      "metadata": {
        "colab": {
          "base_uri": "https://localhost:8080/"
        },
        "id": "JebiWciQh2Sx",
        "outputId": "670e1a7b-f1a0-4fff-c0b7-91d738dfb9ad"
      },
      "execution_count": null,
      "outputs": [
        {
          "output_type": "stream",
          "name": "stdout",
          "text": [
            "Model: \"model\"\n",
            "_________________________________________________________________\n",
            " Layer (type)                Output Shape              Param #   \n",
            "=================================================================\n",
            " input_3 (InputLayer)        [(None, 8)]               0         \n",
            "                                                                 \n",
            " dense_8 (Dense)             (None, 4)                 36        \n",
            "                                                                 \n",
            " dense_9 (Dense)             (None, 1)                 5         \n",
            "                                                                 \n",
            "=================================================================\n",
            "Total params: 41\n",
            "Trainable params: 41\n",
            "Non-trainable params: 0\n",
            "_________________________________________________________________\n"
          ]
        }
      ]
    },
    {
      "cell_type": "code",
      "source": [
        "# compile model \n",
        "# loss \n",
        "# binary class : binary_crossentropy (1)\n",
        "# multi class : categorical_crossentropy\n",
        "# regression : mean_squared_error / mean_absolute_error\n",
        "model_func.compile(loss='binary_crossentropy', optimizer='adam', metrics=['accuracy'])"
      ],
      "metadata": {
        "id": "9nR-SCICi6IP"
      },
      "execution_count": null,
      "outputs": []
    },
    {
      "cell_type": "code",
      "source": [
        "# model fit\n",
        "batch_size = 5\n",
        "epochs = 150\n",
        "history = model_func.fit(X_train, y_train, epochs=epochs, batch_size=batch_size, validation_data=(X_val, y_val))"
      ],
      "metadata": {
        "colab": {
          "base_uri": "https://localhost:8080/"
        },
        "id": "ywx2o7S0kPXZ",
        "outputId": "2649cb71-f5ba-4191-be5b-4b639bad207d"
      },
      "execution_count": null,
      "outputs": [
        {
          "output_type": "stream",
          "name": "stdout",
          "text": [
            "Epoch 1/150\n",
            "106/106 [==============================] - 1s 3ms/step - loss: 6.5641 - accuracy: 0.6091 - val_loss: 3.8618 - val_accuracy: 0.5254\n",
            "Epoch 2/150\n",
            "106/106 [==============================] - 0s 2ms/step - loss: 3.1054 - accuracy: 0.5142 - val_loss: 3.5035 - val_accuracy: 0.5085\n",
            "Epoch 3/150\n",
            "106/106 [==============================] - 0s 2ms/step - loss: 2.8843 - accuracy: 0.5066 - val_loss: 3.3155 - val_accuracy: 0.5254\n",
            "Epoch 4/150\n",
            "106/106 [==============================] - 0s 2ms/step - loss: 2.6895 - accuracy: 0.5218 - val_loss: 3.0937 - val_accuracy: 0.4576\n",
            "Epoch 5/150\n",
            "106/106 [==============================] - 0s 2ms/step - loss: 2.4817 - accuracy: 0.5218 - val_loss: 2.9273 - val_accuracy: 0.5254\n",
            "Epoch 6/150\n",
            "106/106 [==============================] - 0s 2ms/step - loss: 2.2993 - accuracy: 0.5275 - val_loss: 2.6947 - val_accuracy: 0.5254\n",
            "Epoch 7/150\n",
            "106/106 [==============================] - 0s 2ms/step - loss: 2.1241 - accuracy: 0.5218 - val_loss: 2.4694 - val_accuracy: 0.5763\n",
            "Epoch 8/150\n",
            "106/106 [==============================] - 0s 2ms/step - loss: 1.9084 - accuracy: 0.5123 - val_loss: 2.0715 - val_accuracy: 0.5424\n",
            "Epoch 9/150\n",
            "106/106 [==============================] - 0s 2ms/step - loss: 1.6496 - accuracy: 0.5180 - val_loss: 1.6565 - val_accuracy: 0.5254\n",
            "Epoch 10/150\n",
            "106/106 [==============================] - 0s 2ms/step - loss: 1.3750 - accuracy: 0.5047 - val_loss: 1.5660 - val_accuracy: 0.5932\n",
            "Epoch 11/150\n",
            "106/106 [==============================] - 0s 2ms/step - loss: 1.2846 - accuracy: 0.5370 - val_loss: 1.4051 - val_accuracy: 0.5932\n",
            "Epoch 12/150\n",
            "106/106 [==============================] - 0s 2ms/step - loss: 1.1343 - accuracy: 0.5522 - val_loss: 1.3271 - val_accuracy: 0.5763\n",
            "Epoch 13/150\n",
            "106/106 [==============================] - 0s 2ms/step - loss: 1.0703 - accuracy: 0.5446 - val_loss: 1.1933 - val_accuracy: 0.5932\n",
            "Epoch 14/150\n",
            "106/106 [==============================] - 0s 2ms/step - loss: 0.9653 - accuracy: 0.5655 - val_loss: 1.0948 - val_accuracy: 0.5085\n",
            "Epoch 15/150\n",
            "106/106 [==============================] - 0s 2ms/step - loss: 0.9079 - accuracy: 0.6148 - val_loss: 1.0050 - val_accuracy: 0.5932\n",
            "Epoch 16/150\n",
            "106/106 [==============================] - 0s 2ms/step - loss: 0.8474 - accuracy: 0.6091 - val_loss: 0.9576 - val_accuracy: 0.5763\n",
            "Epoch 17/150\n",
            "106/106 [==============================] - 0s 2ms/step - loss: 0.8132 - accuracy: 0.6319 - val_loss: 0.9007 - val_accuracy: 0.5932\n",
            "Epoch 18/150\n",
            "106/106 [==============================] - 0s 2ms/step - loss: 0.7702 - accuracy: 0.6262 - val_loss: 0.8751 - val_accuracy: 0.5932\n",
            "Epoch 19/150\n",
            "106/106 [==============================] - 0s 2ms/step - loss: 0.7365 - accuracy: 0.6546 - val_loss: 0.8287 - val_accuracy: 0.5932\n",
            "Epoch 20/150\n",
            "106/106 [==============================] - 0s 2ms/step - loss: 0.6994 - accuracy: 0.6603 - val_loss: 0.8223 - val_accuracy: 0.6271\n",
            "Epoch 21/150\n",
            "106/106 [==============================] - 0s 2ms/step - loss: 0.6918 - accuracy: 0.7021 - val_loss: 0.8571 - val_accuracy: 0.6271\n",
            "Epoch 22/150\n",
            "106/106 [==============================] - 0s 2ms/step - loss: 0.7055 - accuracy: 0.6679 - val_loss: 0.7681 - val_accuracy: 0.6271\n",
            "Epoch 23/150\n",
            "106/106 [==============================] - 0s 2ms/step - loss: 0.6652 - accuracy: 0.6964 - val_loss: 0.8169 - val_accuracy: 0.5254\n",
            "Epoch 24/150\n",
            "106/106 [==============================] - 0s 2ms/step - loss: 0.6500 - accuracy: 0.7097 - val_loss: 0.7993 - val_accuracy: 0.6271\n",
            "Epoch 25/150\n",
            "106/106 [==============================] - 0s 2ms/step - loss: 0.6624 - accuracy: 0.6736 - val_loss: 0.7373 - val_accuracy: 0.6610\n",
            "Epoch 26/150\n",
            "106/106 [==============================] - 0s 2ms/step - loss: 0.6624 - accuracy: 0.7021 - val_loss: 0.7199 - val_accuracy: 0.6949\n",
            "Epoch 27/150\n",
            "106/106 [==============================] - 0s 2ms/step - loss: 0.6498 - accuracy: 0.6850 - val_loss: 0.7350 - val_accuracy: 0.6441\n",
            "Epoch 28/150\n",
            "106/106 [==============================] - 0s 2ms/step - loss: 0.6509 - accuracy: 0.7002 - val_loss: 0.7562 - val_accuracy: 0.6271\n",
            "Epoch 29/150\n",
            "106/106 [==============================] - 0s 2ms/step - loss: 0.6561 - accuracy: 0.6869 - val_loss: 0.7149 - val_accuracy: 0.6441\n",
            "Epoch 30/150\n",
            "106/106 [==============================] - 0s 2ms/step - loss: 0.6513 - accuracy: 0.6983 - val_loss: 0.7002 - val_accuracy: 0.6780\n",
            "Epoch 31/150\n",
            "106/106 [==============================] - 0s 2ms/step - loss: 0.6270 - accuracy: 0.6983 - val_loss: 0.7364 - val_accuracy: 0.6271\n",
            "Epoch 32/150\n",
            "106/106 [==============================] - 0s 2ms/step - loss: 0.6245 - accuracy: 0.7211 - val_loss: 0.7177 - val_accuracy: 0.6441\n",
            "Epoch 33/150\n",
            "106/106 [==============================] - 0s 2ms/step - loss: 0.6346 - accuracy: 0.7021 - val_loss: 0.6878 - val_accuracy: 0.6949\n",
            "Epoch 34/150\n",
            "106/106 [==============================] - 0s 2ms/step - loss: 0.6290 - accuracy: 0.6907 - val_loss: 0.7094 - val_accuracy: 0.6271\n",
            "Epoch 35/150\n",
            "106/106 [==============================] - 0s 2ms/step - loss: 0.6200 - accuracy: 0.7268 - val_loss: 0.6841 - val_accuracy: 0.6780\n",
            "Epoch 36/150\n",
            "106/106 [==============================] - 0s 2ms/step - loss: 0.6256 - accuracy: 0.7230 - val_loss: 0.6962 - val_accuracy: 0.6610\n",
            "Epoch 37/150\n",
            "106/106 [==============================] - 0s 2ms/step - loss: 0.6235 - accuracy: 0.7059 - val_loss: 0.6840 - val_accuracy: 0.6780\n",
            "Epoch 38/150\n",
            "106/106 [==============================] - 0s 2ms/step - loss: 0.6272 - accuracy: 0.6755 - val_loss: 0.6780 - val_accuracy: 0.6949\n",
            "Epoch 39/150\n",
            "106/106 [==============================] - 0s 2ms/step - loss: 0.6193 - accuracy: 0.7135 - val_loss: 0.6794 - val_accuracy: 0.6271\n",
            "Epoch 40/150\n",
            "106/106 [==============================] - 0s 2ms/step - loss: 0.6216 - accuracy: 0.7002 - val_loss: 0.7311 - val_accuracy: 0.5424\n",
            "Epoch 41/150\n",
            "106/106 [==============================] - 0s 2ms/step - loss: 0.6237 - accuracy: 0.7021 - val_loss: 0.7251 - val_accuracy: 0.5424\n",
            "Epoch 42/150\n",
            "106/106 [==============================] - 0s 2ms/step - loss: 0.6104 - accuracy: 0.7059 - val_loss: 0.6877 - val_accuracy: 0.6610\n",
            "Epoch 43/150\n",
            "106/106 [==============================] - 0s 2ms/step - loss: 0.6144 - accuracy: 0.7154 - val_loss: 0.6811 - val_accuracy: 0.6271\n",
            "Epoch 44/150\n",
            "106/106 [==============================] - 0s 2ms/step - loss: 0.6098 - accuracy: 0.7135 - val_loss: 0.6699 - val_accuracy: 0.6102\n",
            "Epoch 45/150\n",
            "106/106 [==============================] - 0s 2ms/step - loss: 0.6144 - accuracy: 0.7002 - val_loss: 0.7199 - val_accuracy: 0.6271\n",
            "Epoch 46/150\n",
            "106/106 [==============================] - 0s 2ms/step - loss: 0.6283 - accuracy: 0.7040 - val_loss: 0.6769 - val_accuracy: 0.6441\n",
            "Epoch 47/150\n",
            "106/106 [==============================] - 0s 2ms/step - loss: 0.6074 - accuracy: 0.7211 - val_loss: 0.7605 - val_accuracy: 0.6102\n",
            "Epoch 48/150\n",
            "106/106 [==============================] - 0s 2ms/step - loss: 0.6277 - accuracy: 0.6793 - val_loss: 0.6554 - val_accuracy: 0.6780\n",
            "Epoch 49/150\n",
            "106/106 [==============================] - 0s 2ms/step - loss: 0.6132 - accuracy: 0.7135 - val_loss: 0.6997 - val_accuracy: 0.6102\n",
            "Epoch 50/150\n",
            "106/106 [==============================] - 0s 2ms/step - loss: 0.5914 - accuracy: 0.7135 - val_loss: 0.6497 - val_accuracy: 0.7288\n",
            "Epoch 51/150\n",
            "106/106 [==============================] - 0s 2ms/step - loss: 0.6032 - accuracy: 0.7154 - val_loss: 0.6508 - val_accuracy: 0.6949\n",
            "Epoch 52/150\n",
            "106/106 [==============================] - 0s 2ms/step - loss: 0.5958 - accuracy: 0.7078 - val_loss: 0.6641 - val_accuracy: 0.6610\n",
            "Epoch 53/150\n",
            "106/106 [==============================] - 0s 2ms/step - loss: 0.5994 - accuracy: 0.7078 - val_loss: 0.6485 - val_accuracy: 0.6780\n",
            "Epoch 54/150\n",
            "106/106 [==============================] - 0s 2ms/step - loss: 0.6032 - accuracy: 0.6926 - val_loss: 0.6422 - val_accuracy: 0.6949\n",
            "Epoch 55/150\n",
            "106/106 [==============================] - 0s 2ms/step - loss: 0.6209 - accuracy: 0.7040 - val_loss: 0.6376 - val_accuracy: 0.7288\n",
            "Epoch 56/150\n",
            "106/106 [==============================] - 0s 2ms/step - loss: 0.5922 - accuracy: 0.7211 - val_loss: 0.6402 - val_accuracy: 0.7119\n",
            "Epoch 57/150\n",
            "106/106 [==============================] - 0s 2ms/step - loss: 0.5973 - accuracy: 0.7021 - val_loss: 0.6384 - val_accuracy: 0.6780\n",
            "Epoch 58/150\n",
            "106/106 [==============================] - 0s 2ms/step - loss: 0.5883 - accuracy: 0.7249 - val_loss: 0.6831 - val_accuracy: 0.6271\n",
            "Epoch 59/150\n",
            "106/106 [==============================] - 0s 2ms/step - loss: 0.5906 - accuracy: 0.7116 - val_loss: 0.6513 - val_accuracy: 0.6441\n",
            "Epoch 60/150\n",
            "106/106 [==============================] - 0s 2ms/step - loss: 0.6016 - accuracy: 0.7135 - val_loss: 0.6501 - val_accuracy: 0.6610\n",
            "Epoch 61/150\n",
            "106/106 [==============================] - 0s 2ms/step - loss: 0.6019 - accuracy: 0.7078 - val_loss: 0.6391 - val_accuracy: 0.7119\n",
            "Epoch 62/150\n",
            "106/106 [==============================] - 0s 2ms/step - loss: 0.5798 - accuracy: 0.7230 - val_loss: 0.6467 - val_accuracy: 0.6271\n",
            "Epoch 63/150\n",
            "106/106 [==============================] - 0s 2ms/step - loss: 0.6057 - accuracy: 0.6869 - val_loss: 0.6759 - val_accuracy: 0.5763\n",
            "Epoch 64/150\n",
            "106/106 [==============================] - 0s 2ms/step - loss: 0.5821 - accuracy: 0.7078 - val_loss: 0.6998 - val_accuracy: 0.5593\n",
            "Epoch 65/150\n",
            "106/106 [==============================] - 0s 2ms/step - loss: 0.5948 - accuracy: 0.6945 - val_loss: 0.6289 - val_accuracy: 0.6780\n",
            "Epoch 66/150\n",
            "106/106 [==============================] - 0s 2ms/step - loss: 0.6232 - accuracy: 0.6888 - val_loss: 0.6394 - val_accuracy: 0.7119\n",
            "Epoch 67/150\n",
            "106/106 [==============================] - 0s 2ms/step - loss: 0.5747 - accuracy: 0.7230 - val_loss: 0.6911 - val_accuracy: 0.6441\n",
            "Epoch 68/150\n",
            "106/106 [==============================] - 0s 2ms/step - loss: 0.6049 - accuracy: 0.7097 - val_loss: 0.7051 - val_accuracy: 0.6441\n",
            "Epoch 69/150\n",
            "106/106 [==============================] - 0s 2ms/step - loss: 0.5815 - accuracy: 0.7154 - val_loss: 0.6320 - val_accuracy: 0.6949\n",
            "Epoch 70/150\n",
            "106/106 [==============================] - 0s 2ms/step - loss: 0.5843 - accuracy: 0.7078 - val_loss: 0.6421 - val_accuracy: 0.6441\n",
            "Epoch 71/150\n",
            "106/106 [==============================] - 0s 2ms/step - loss: 0.5904 - accuracy: 0.7116 - val_loss: 0.6329 - val_accuracy: 0.6780\n",
            "Epoch 72/150\n",
            "106/106 [==============================] - 0s 2ms/step - loss: 0.5855 - accuracy: 0.7021 - val_loss: 0.6442 - val_accuracy: 0.6441\n",
            "Epoch 73/150\n",
            "106/106 [==============================] - 0s 2ms/step - loss: 0.5899 - accuracy: 0.7059 - val_loss: 0.6584 - val_accuracy: 0.6271\n",
            "Epoch 74/150\n",
            "106/106 [==============================] - 0s 2ms/step - loss: 0.5802 - accuracy: 0.7287 - val_loss: 0.6358 - val_accuracy: 0.6441\n",
            "Epoch 75/150\n",
            "106/106 [==============================] - 0s 2ms/step - loss: 0.5783 - accuracy: 0.7078 - val_loss: 0.6326 - val_accuracy: 0.6441\n",
            "Epoch 76/150\n",
            "106/106 [==============================] - 0s 2ms/step - loss: 0.5913 - accuracy: 0.7249 - val_loss: 0.6084 - val_accuracy: 0.6949\n",
            "Epoch 77/150\n",
            "106/106 [==============================] - 0s 2ms/step - loss: 0.5720 - accuracy: 0.7097 - val_loss: 0.6834 - val_accuracy: 0.5932\n",
            "Epoch 78/150\n",
            "106/106 [==============================] - 0s 2ms/step - loss: 0.5869 - accuracy: 0.6983 - val_loss: 0.6657 - val_accuracy: 0.5763\n",
            "Epoch 79/150\n",
            "106/106 [==============================] - 0s 2ms/step - loss: 0.5684 - accuracy: 0.7192 - val_loss: 0.6133 - val_accuracy: 0.6780\n",
            "Epoch 80/150\n",
            "106/106 [==============================] - 0s 2ms/step - loss: 0.5709 - accuracy: 0.7059 - val_loss: 0.6132 - val_accuracy: 0.6949\n",
            "Epoch 81/150\n",
            "106/106 [==============================] - 0s 2ms/step - loss: 0.5669 - accuracy: 0.7192 - val_loss: 0.6166 - val_accuracy: 0.6949\n",
            "Epoch 82/150\n",
            "106/106 [==============================] - 0s 2ms/step - loss: 0.5651 - accuracy: 0.7306 - val_loss: 0.6215 - val_accuracy: 0.6271\n",
            "Epoch 83/150\n",
            "106/106 [==============================] - 0s 2ms/step - loss: 0.5594 - accuracy: 0.7116 - val_loss: 0.6630 - val_accuracy: 0.6271\n",
            "Epoch 84/150\n",
            "106/106 [==============================] - 0s 2ms/step - loss: 0.5626 - accuracy: 0.7249 - val_loss: 0.6277 - val_accuracy: 0.6271\n",
            "Epoch 85/150\n",
            "106/106 [==============================] - 0s 2ms/step - loss: 0.5665 - accuracy: 0.7362 - val_loss: 0.6285 - val_accuracy: 0.6610\n",
            "Epoch 86/150\n",
            "106/106 [==============================] - 0s 2ms/step - loss: 0.5866 - accuracy: 0.7135 - val_loss: 0.6363 - val_accuracy: 0.5763\n",
            "Epoch 87/150\n",
            "106/106 [==============================] - 0s 2ms/step - loss: 0.5574 - accuracy: 0.7381 - val_loss: 0.6160 - val_accuracy: 0.6441\n",
            "Epoch 88/150\n",
            "106/106 [==============================] - 0s 2ms/step - loss: 0.5608 - accuracy: 0.7173 - val_loss: 0.6186 - val_accuracy: 0.6780\n",
            "Epoch 89/150\n",
            "106/106 [==============================] - 0s 2ms/step - loss: 0.5723 - accuracy: 0.7116 - val_loss: 0.6225 - val_accuracy: 0.6949\n",
            "Epoch 90/150\n",
            "106/106 [==============================] - 0s 2ms/step - loss: 0.5707 - accuracy: 0.7211 - val_loss: 0.6229 - val_accuracy: 0.6610\n",
            "Epoch 91/150\n",
            "106/106 [==============================] - 0s 2ms/step - loss: 0.5713 - accuracy: 0.7002 - val_loss: 0.6169 - val_accuracy: 0.6441\n",
            "Epoch 92/150\n",
            "106/106 [==============================] - 0s 2ms/step - loss: 0.5544 - accuracy: 0.7306 - val_loss: 0.5990 - val_accuracy: 0.6780\n",
            "Epoch 93/150\n",
            "106/106 [==============================] - 0s 2ms/step - loss: 0.5730 - accuracy: 0.7078 - val_loss: 0.6088 - val_accuracy: 0.6780\n",
            "Epoch 94/150\n",
            "106/106 [==============================] - 0s 2ms/step - loss: 0.5516 - accuracy: 0.7495 - val_loss: 0.6227 - val_accuracy: 0.6780\n",
            "Epoch 95/150\n",
            "106/106 [==============================] - 0s 2ms/step - loss: 0.5661 - accuracy: 0.7268 - val_loss: 0.5986 - val_accuracy: 0.6949\n",
            "Epoch 96/150\n",
            "106/106 [==============================] - 0s 2ms/step - loss: 0.5698 - accuracy: 0.7287 - val_loss: 0.6185 - val_accuracy: 0.6102\n",
            "Epoch 97/150\n",
            "106/106 [==============================] - 0s 2ms/step - loss: 0.5616 - accuracy: 0.7230 - val_loss: 0.6152 - val_accuracy: 0.6610\n",
            "Epoch 98/150\n",
            "106/106 [==============================] - 0s 2ms/step - loss: 0.5578 - accuracy: 0.7287 - val_loss: 0.6219 - val_accuracy: 0.6441\n",
            "Epoch 99/150\n",
            "106/106 [==============================] - 0s 2ms/step - loss: 0.5644 - accuracy: 0.7135 - val_loss: 0.5946 - val_accuracy: 0.6780\n",
            "Epoch 100/150\n",
            "106/106 [==============================] - 0s 2ms/step - loss: 0.5473 - accuracy: 0.7287 - val_loss: 0.6274 - val_accuracy: 0.6441\n",
            "Epoch 101/150\n",
            "106/106 [==============================] - 0s 2ms/step - loss: 0.5415 - accuracy: 0.7400 - val_loss: 0.6104 - val_accuracy: 0.6949\n",
            "Epoch 102/150\n",
            "106/106 [==============================] - 0s 2ms/step - loss: 0.5718 - accuracy: 0.7287 - val_loss: 0.6157 - val_accuracy: 0.5932\n",
            "Epoch 103/150\n",
            "106/106 [==============================] - 0s 2ms/step - loss: 0.5508 - accuracy: 0.7324 - val_loss: 0.6481 - val_accuracy: 0.6102\n",
            "Epoch 104/150\n",
            "106/106 [==============================] - 0s 2ms/step - loss: 0.5649 - accuracy: 0.7078 - val_loss: 0.6111 - val_accuracy: 0.6441\n",
            "Epoch 105/150\n",
            "106/106 [==============================] - 0s 2ms/step - loss: 0.5584 - accuracy: 0.7343 - val_loss: 0.6522 - val_accuracy: 0.6271\n",
            "Epoch 106/150\n",
            "106/106 [==============================] - 0s 2ms/step - loss: 0.5497 - accuracy: 0.7324 - val_loss: 0.6052 - val_accuracy: 0.6780\n",
            "Epoch 107/150\n",
            "106/106 [==============================] - 0s 2ms/step - loss: 0.5510 - accuracy: 0.7287 - val_loss: 0.6155 - val_accuracy: 0.6441\n",
            "Epoch 108/150\n",
            "106/106 [==============================] - 0s 2ms/step - loss: 0.5627 - accuracy: 0.7249 - val_loss: 0.5858 - val_accuracy: 0.6610\n",
            "Epoch 109/150\n",
            "106/106 [==============================] - 0s 2ms/step - loss: 0.5531 - accuracy: 0.7249 - val_loss: 0.6036 - val_accuracy: 0.6441\n",
            "Epoch 110/150\n",
            "106/106 [==============================] - 0s 2ms/step - loss: 0.6006 - accuracy: 0.6964 - val_loss: 0.5905 - val_accuracy: 0.6949\n",
            "Epoch 111/150\n",
            "106/106 [==============================] - 0s 2ms/step - loss: 0.5471 - accuracy: 0.7230 - val_loss: 0.5938 - val_accuracy: 0.6949\n",
            "Epoch 112/150\n",
            "106/106 [==============================] - 0s 2ms/step - loss: 0.5587 - accuracy: 0.7419 - val_loss: 0.6414 - val_accuracy: 0.6610\n",
            "Epoch 113/150\n",
            "106/106 [==============================] - 0s 2ms/step - loss: 0.5451 - accuracy: 0.7173 - val_loss: 0.6180 - val_accuracy: 0.6441\n",
            "Epoch 114/150\n",
            "106/106 [==============================] - 0s 2ms/step - loss: 0.5390 - accuracy: 0.7400 - val_loss: 0.6021 - val_accuracy: 0.6102\n",
            "Epoch 115/150\n",
            "106/106 [==============================] - 0s 2ms/step - loss: 0.5428 - accuracy: 0.7419 - val_loss: 0.5829 - val_accuracy: 0.6610\n",
            "Epoch 116/150\n",
            "106/106 [==============================] - 0s 2ms/step - loss: 0.5567 - accuracy: 0.7268 - val_loss: 0.6025 - val_accuracy: 0.6780\n",
            "Epoch 117/150\n",
            "106/106 [==============================] - 0s 2ms/step - loss: 0.5488 - accuracy: 0.7268 - val_loss: 0.5846 - val_accuracy: 0.6949\n",
            "Epoch 118/150\n",
            "106/106 [==============================] - 0s 2ms/step - loss: 0.5356 - accuracy: 0.7438 - val_loss: 0.5840 - val_accuracy: 0.6610\n",
            "Epoch 119/150\n",
            "106/106 [==============================] - 0s 2ms/step - loss: 0.5435 - accuracy: 0.7324 - val_loss: 0.6017 - val_accuracy: 0.6610\n",
            "Epoch 120/150\n",
            "106/106 [==============================] - 0s 2ms/step - loss: 0.5552 - accuracy: 0.7173 - val_loss: 0.5813 - val_accuracy: 0.6780\n",
            "Epoch 121/150\n",
            "106/106 [==============================] - 0s 2ms/step - loss: 0.5467 - accuracy: 0.7287 - val_loss: 0.6222 - val_accuracy: 0.6441\n",
            "Epoch 122/150\n",
            "106/106 [==============================] - 0s 2ms/step - loss: 0.5505 - accuracy: 0.7306 - val_loss: 0.6534 - val_accuracy: 0.5932\n",
            "Epoch 123/150\n",
            "106/106 [==============================] - 0s 2ms/step - loss: 0.5512 - accuracy: 0.7211 - val_loss: 0.5789 - val_accuracy: 0.6780\n",
            "Epoch 124/150\n",
            "106/106 [==============================] - 0s 2ms/step - loss: 0.5494 - accuracy: 0.7343 - val_loss: 0.5989 - val_accuracy: 0.6102\n",
            "Epoch 125/150\n",
            "106/106 [==============================] - 0s 2ms/step - loss: 0.5333 - accuracy: 0.7457 - val_loss: 0.5976 - val_accuracy: 0.6102\n",
            "Epoch 126/150\n",
            "106/106 [==============================] - 0s 2ms/step - loss: 0.5507 - accuracy: 0.7362 - val_loss: 0.5999 - val_accuracy: 0.6102\n",
            "Epoch 127/150\n",
            "106/106 [==============================] - 0s 2ms/step - loss: 0.5320 - accuracy: 0.7343 - val_loss: 0.5836 - val_accuracy: 0.7119\n",
            "Epoch 128/150\n",
            "106/106 [==============================] - 0s 2ms/step - loss: 0.5345 - accuracy: 0.7495 - val_loss: 0.5882 - val_accuracy: 0.6610\n",
            "Epoch 129/150\n",
            "106/106 [==============================] - 0s 2ms/step - loss: 0.5334 - accuracy: 0.7362 - val_loss: 0.5944 - val_accuracy: 0.7119\n",
            "Epoch 130/150\n",
            "106/106 [==============================] - 0s 2ms/step - loss: 0.5345 - accuracy: 0.7287 - val_loss: 0.6255 - val_accuracy: 0.6441\n",
            "Epoch 131/150\n",
            "106/106 [==============================] - 0s 2ms/step - loss: 0.5413 - accuracy: 0.7249 - val_loss: 0.5903 - val_accuracy: 0.6271\n",
            "Epoch 132/150\n",
            "106/106 [==============================] - 0s 2ms/step - loss: 0.5300 - accuracy: 0.7495 - val_loss: 0.6475 - val_accuracy: 0.5763\n",
            "Epoch 133/150\n",
            "106/106 [==============================] - 0s 2ms/step - loss: 0.5359 - accuracy: 0.7324 - val_loss: 0.5823 - val_accuracy: 0.7119\n",
            "Epoch 134/150\n",
            "106/106 [==============================] - 0s 2ms/step - loss: 0.5471 - accuracy: 0.7381 - val_loss: 0.5747 - val_accuracy: 0.6780\n",
            "Epoch 135/150\n",
            "106/106 [==============================] - 0s 2ms/step - loss: 0.5349 - accuracy: 0.7324 - val_loss: 0.5889 - val_accuracy: 0.7458\n",
            "Epoch 136/150\n",
            "106/106 [==============================] - 0s 2ms/step - loss: 0.5594 - accuracy: 0.7287 - val_loss: 0.6184 - val_accuracy: 0.5763\n",
            "Epoch 137/150\n",
            "106/106 [==============================] - 0s 2ms/step - loss: 0.5415 - accuracy: 0.7362 - val_loss: 0.6238 - val_accuracy: 0.6610\n",
            "Epoch 138/150\n",
            "106/106 [==============================] - 0s 2ms/step - loss: 0.5302 - accuracy: 0.7476 - val_loss: 0.5743 - val_accuracy: 0.6780\n",
            "Epoch 139/150\n",
            "106/106 [==============================] - 0s 2ms/step - loss: 0.5214 - accuracy: 0.7571 - val_loss: 0.6048 - val_accuracy: 0.5932\n",
            "Epoch 140/150\n",
            "106/106 [==============================] - 0s 2ms/step - loss: 0.5314 - accuracy: 0.7476 - val_loss: 0.6040 - val_accuracy: 0.6780\n",
            "Epoch 141/150\n",
            "106/106 [==============================] - 0s 2ms/step - loss: 0.5337 - accuracy: 0.7324 - val_loss: 0.6258 - val_accuracy: 0.6102\n",
            "Epoch 142/150\n",
            "106/106 [==============================] - 0s 2ms/step - loss: 0.5522 - accuracy: 0.7230 - val_loss: 0.6146 - val_accuracy: 0.6271\n",
            "Epoch 143/150\n",
            "106/106 [==============================] - 0s 2ms/step - loss: 0.5350 - accuracy: 0.7666 - val_loss: 0.5984 - val_accuracy: 0.6780\n",
            "Epoch 144/150\n",
            "106/106 [==============================] - 0s 2ms/step - loss: 0.5354 - accuracy: 0.7533 - val_loss: 0.5829 - val_accuracy: 0.7119\n",
            "Epoch 145/150\n",
            "106/106 [==============================] - 0s 2ms/step - loss: 0.5315 - accuracy: 0.7533 - val_loss: 0.6002 - val_accuracy: 0.6271\n",
            "Epoch 146/150\n",
            "106/106 [==============================] - 0s 2ms/step - loss: 0.5304 - accuracy: 0.7590 - val_loss: 0.6072 - val_accuracy: 0.6271\n",
            "Epoch 147/150\n",
            "106/106 [==============================] - 0s 2ms/step - loss: 0.5343 - accuracy: 0.7457 - val_loss: 0.5787 - val_accuracy: 0.7119\n",
            "Epoch 148/150\n",
            "106/106 [==============================] - 0s 2ms/step - loss: 0.5386 - accuracy: 0.7438 - val_loss: 0.6504 - val_accuracy: 0.6610\n",
            "Epoch 149/150\n",
            "106/106 [==============================] - 0s 2ms/step - loss: 0.5338 - accuracy: 0.7419 - val_loss: 0.5974 - val_accuracy: 0.6271\n",
            "Epoch 150/150\n",
            "106/106 [==============================] - 0s 2ms/step - loss: 0.5247 - accuracy: 0.7476 - val_loss: 0.5982 - val_accuracy: 0.6780\n"
          ]
        }
      ]
    },
    {
      "cell_type": "code",
      "source": [
        "import matplotlib.pyplot as plt\n",
        "import numpy as np\n",
        "x_axis = np.arange(1,151)\n",
        "\n",
        "plt.plot(x_axis, history.history['loss'], label='train_loss')\n",
        "plt.plot(x_axis, history.history['val_loss'], label='val_loss')\n",
        "plt.legend()"
      ],
      "metadata": {
        "colab": {
          "base_uri": "https://localhost:8080/",
          "height": 282
        },
        "id": "9AnfNxwmk5so",
        "outputId": "02a78589-9bec-44af-c6a2-a5bb4ed95838"
      },
      "execution_count": null,
      "outputs": [
        {
          "output_type": "execute_result",
          "data": {
            "text/plain": [
              "<matplotlib.legend.Legend at 0x7fa042b2e950>"
            ]
          },
          "metadata": {},
          "execution_count": 45
        },
        {
          "output_type": "display_data",
          "data": {
            "image/png": "[encoded data removed]",
            "text/plain": [
              "<Figure size 432x288 with 1 Axes>"
            ]
          },
          "metadata": {
            "needs_background": "light"
          }
        }
      ]
    },
    {
      "cell_type": "code",
      "source": [
        "plt.plot(x_axis, history.history['accuracy'], label='train_accuracy')\n",
        "plt.plot(x_axis, history.history['val_accuracy'], label='val_accuracy')\n",
        "plt.legend()"
      ],
      "metadata": {
        "colab": {
          "base_uri": "https://localhost:8080/",
          "height": 282
        },
        "id": "NF5rSp_5lxI-",
        "outputId": "7c61973d-5e1a-4d78-a93b-744f7d1bf5fe"
      },
      "execution_count": null,
      "outputs": [
        {
          "output_type": "execute_result",
          "data": {
            "text/plain": [
              "<matplotlib.legend.Legend at 0x7fa042e45bd0>"
            ]
          },
          "metadata": {},
          "execution_count": 36
        },
        {
          "output_type": "display_data",
          "data": {
            "image/png": "[encoded data removed]",
            "text/plain": [
              "<Figure size 432x288 with 1 Axes>"
            ]
          },
          "metadata": {
            "needs_background": "light"
          }
        }
      ]
    },
    {
      "cell_type": "code",
      "source": [
        "# regression model \n",
        "df = pd.read_csv(\"https://raw.githubusercontent.com/ardhiraka/PFDS_sources/master/CarPrice_Assignment.csv\")\n",
        "df.head()"
      ],
      "metadata": {
        "colab": {
          "base_uri": "https://localhost:8080/",
          "height": 278
        },
        "id": "CNX8OI0dmxAX",
        "outputId": "593c6cdb-701b-4ce1-f71b-5f9361d15000"
      },
      "execution_count": null,
      "outputs": [
        {
          "output_type": "execute_result",
          "data": {
            "text/html": [
              "<div>\n",
              "<style scoped>\n",
              "    .dataframe tbody tr th:only-of-type {\n",
              "        vertical-align: middle;\n",
              "    }\n",
              "\n",
              "    .dataframe tbody tr th {\n",
              "        vertical-align: top;\n",
              "    }\n",
              "\n",
              "    .dataframe thead th {\n",
              "        text-align: right;\n",
              "    }\n",
              "</style>\n",
              "<table border=\"1\" class=\"dataframe\">\n",
              "  <thead>\n",
              "    <tr style=\"text-align: right;\">\n",
              "      <th></th>\n",
              "      <th>car_ID</th>\n",
              "      <th>symboling</th>\n",
              "      <th>CarName</th>\n",
              "      <th>fueltype</th>\n",
              "      <th>aspiration</th>\n",
              "      <th>doornumber</th>\n",
              "      <th>carbody</th>\n",
              "      <th>drivewheel</th>\n",
              "      <th>enginelocation</th>\n",
              "      <th>wheelbase</th>\n",
              "      <th>carlength</th>\n",
              "      <th>carwidth</th>\n",
              "      <th>carheight</th>\n",
              "      <th>curbweight</th>\n",
              "      <th>enginetype</th>\n",
              "      <th>cylindernumber</th>\n",
              "      <th>enginesize</th>\n",
              "      <th>fuelsystem</th>\n",
              "      <th>boreratio</th>\n",
              "      <th>stroke</th>\n",
              "      <th>compressionratio</th>\n",
              "      <th>horsepower</th>\n",
              "      <th>peakrpm</th>\n",
              "      <th>citympg</th>\n",
              "      <th>highwaympg</th>\n",
              "      <th>price</th>\n",
              "    </tr>\n",
              "  </thead>\n",
              "  <tbody>\n",
              "    <tr>\n",
              "      <th>0</th>\n",
              "      <td>1</td>\n",
              "      <td>3</td>\n",
              "      <td>alfa-romero giulia</td>\n",
              "      <td>gas</td>\n",
              "      <td>std</td>\n",
              "      <td>two</td>\n",
              "      <td>convertible</td>\n",
              "      <td>rwd</td>\n",
              "      <td>front</td>\n",
              "      <td>88.6</td>\n",
              "      <td>168.8</td>\n",
              "      <td>64.1</td>\n",
              "      <td>48.8</td>\n",
              "      <td>2548</td>\n",
              "      <td>dohc</td>\n",
              "      <td>four</td>\n",
              "      <td>130</td>\n",
              "      <td>mpfi</td>\n",
              "      <td>3.47</td>\n",
              "      <td>2.68</td>\n",
              "      <td>9.0</td>\n",
              "      <td>111</td>\n",
              "      <td>5000</td>\n",
              "      <td>21</td>\n",
              "      <td>27</td>\n",
              "      <td>13495.0</td>\n",
              "    </tr>\n",
              "    <tr>\n",
              "      <th>1</th>\n",
              "      <td>2</td>\n",
              "      <td>3</td>\n",
              "      <td>alfa-romero stelvio</td>\n",
              "      <td>gas</td>\n",
              "      <td>std</td>\n",
              "      <td>two</td>\n",
              "      <td>convertible</td>\n",
              "      <td>rwd</td>\n",
              "      <td>front</td>\n",
              "      <td>88.6</td>\n",
              "      <td>168.8</td>\n",
              "      <td>64.1</td>\n",
              "      <td>48.8</td>\n",
              "      <td>2548</td>\n",
              "      <td>dohc</td>\n",
              "      <td>four</td>\n",
              "      <td>130</td>\n",
              "      <td>mpfi</td>\n",
              "      <td>3.47</td>\n",
              "      <td>2.68</td>\n",
              "      <td>9.0</td>\n",
              "      <td>111</td>\n",
              "      <td>5000</td>\n",
              "      <td>21</td>\n",
              "      <td>27</td>\n",
              "      <td>16500.0</td>\n",
              "    </tr>\n",
              "    <tr>\n",
              "      <th>2</th>\n",
              "      <td>3</td>\n",
              "      <td>1</td>\n",
              "      <td>alfa-romero Quadrifoglio</td>\n",
              "      <td>gas</td>\n",
              "      <td>std</td>\n",
              "      <td>two</td>\n",
              "      <td>hatchback</td>\n",
              "      <td>rwd</td>\n",
              "      <td>front</td>\n",
              "      <td>94.5</td>\n",
              "      <td>171.2</td>\n",
              "      <td>65.5</td>\n",
              "      <td>52.4</td>\n",
              "      <td>2823</td>\n",
              "      <td>ohcv</td>\n",
              "      <td>six</td>\n",
              "      <td>152</td>\n",
              "      <td>mpfi</td>\n",
              "      <td>2.68</td>\n",
              "      <td>3.47</td>\n",
              "      <td>9.0</td>\n",
              "      <td>154</td>\n",
              "      <td>5000</td>\n",
              "      <td>19</td>\n",
              "      <td>26</td>\n",
              "      <td>16500.0</td>\n",
              "    </tr>\n",
              "    <tr>\n",
              "      <th>3</th>\n",
              "      <td>4</td>\n",
              "      <td>2</td>\n",
              "      <td>audi 100 ls</td>\n",
              "      <td>gas</td>\n",
              "      <td>std</td>\n",
              "      <td>four</td>\n",
              "      <td>sedan</td>\n",
              "      <td>fwd</td>\n",
              "      <td>front</td>\n",
              "      <td>99.8</td>\n",
              "      <td>176.6</td>\n",
              "      <td>66.2</td>\n",
              "      <td>54.3</td>\n",
              "      <td>2337</td>\n",
              "      <td>ohc</td>\n",
              "      <td>four</td>\n",
              "      <td>109</td>\n",
              "      <td>mpfi</td>\n",
              "      <td>3.19</td>\n",
              "      <td>3.40</td>\n",
              "      <td>10.0</td>\n",
              "      <td>102</td>\n",
              "      <td>5500</td>\n",
              "      <td>24</td>\n",
              "      <td>30</td>\n",
              "      <td>13950.0</td>\n",
              "    </tr>\n",
              "    <tr>\n",
              "      <th>4</th>\n",
              "      <td>5</td>\n",
              "      <td>2</td>\n",
              "      <td>audi 100ls</td>\n",
              "      <td>gas</td>\n",
              "      <td>std</td>\n",
              "      <td>four</td>\n",
              "      <td>sedan</td>\n",
              "      <td>4wd</td>\n",
              "      <td>front</td>\n",
              "      <td>99.4</td>\n",
              "      <td>176.6</td>\n",
              "      <td>66.4</td>\n",
              "      <td>54.3</td>\n",
              "      <td>2824</td>\n",
              "      <td>ohc</td>\n",
              "      <td>five</td>\n",
              "      <td>136</td>\n",
              "      <td>mpfi</td>\n",
              "      <td>3.19</td>\n",
              "      <td>3.40</td>\n",
              "      <td>8.0</td>\n",
              "      <td>115</td>\n",
              "      <td>5500</td>\n",
              "      <td>18</td>\n",
              "      <td>22</td>\n",
              "      <td>17450.0</td>\n",
              "    </tr>\n",
              "  </tbody>\n",
              "</table>\n",
              "</div>"
            ],
            "text/plain": [
              "   car_ID  symboling                   CarName  ... citympg highwaympg    price\n",
              "0       1          3        alfa-romero giulia  ...      21         27  13495.0\n",
              "1       2          3       alfa-romero stelvio  ...      21         27  16500.0\n",
              "2       3          1  alfa-romero Quadrifoglio  ...      19         26  16500.0\n",
              "3       4          2               audi 100 ls  ...      24         30  13950.0\n",
              "4       5          2                audi 100ls  ...      18         22  17450.0\n",
              "\n",
              "[5 rows x 26 columns]"
            ]
          },
          "metadata": {},
          "execution_count": 47
        }
      ]
    },
    {
      "cell_type": "code",
      "source": [
        "df.fueltype = df.fueltype.map({'gas':0, 'diesel':1})"
      ],
      "metadata": {
        "id": "XRPNkeJos-5L"
      },
      "execution_count": null,
      "outputs": []
    },
    {
      "cell_type": "code",
      "source": [
        "df.aspiration = df.aspiration.map({'std':0, 'turbo':1})"
      ],
      "metadata": {
        "id": "-AdX7jjjsj2t"
      },
      "execution_count": null,
      "outputs": []
    },
    {
      "cell_type": "code",
      "source": [
        "df.doornumber = df.doornumber.map({'four':4, 'two':2})"
      ],
      "metadata": {
        "id": "W2mc2qv2thnA"
      },
      "execution_count": null,
      "outputs": []
    },
    {
      "cell_type": "code",
      "source": [
        "df.carbody = df.carbody.map({'convertible': 0, 'hatchback':1, 'sedan':2, 'wagon':3, 'hardtop':4})"
      ],
      "metadata": {
        "id": "C0RRDScqtrX2"
      },
      "execution_count": null,
      "outputs": []
    },
    {
      "cell_type": "code",
      "source": [
        "df.drop(['car_ID', 'CarName'], axis=1, inplace=True)\n"
      ],
      "metadata": {
        "id": "Jpoq9-0qt1cg"
      },
      "execution_count": null,
      "outputs": []
    },
    {
      "cell_type": "code",
      "source": [
        "df.info()"
      ],
      "metadata": {
        "colab": {
          "base_uri": "https://localhost:8080/"
        },
        "id": "zRtGGaOwuks0",
        "outputId": "0a261e51-ba13-4ec8-a0f0-bfd393a083fe"
      },
      "execution_count": null,
      "outputs": [
        {
          "output_type": "stream",
          "name": "stdout",
          "text": [
            "<class 'pandas.core.frame.DataFrame'>\n",
            "RangeIndex: 205 entries, 0 to 204\n",
            "Data columns (total 24 columns):\n",
            " #   Column            Non-Null Count  Dtype  \n",
            "---  ------            --------------  -----  \n",
            " 0   symboling         205 non-null    int64  \n",
            " 1   fueltype          205 non-null    int64  \n",
            " 2   aspiration        205 non-null    int64  \n",
            " 3   doornumber        205 non-null    int64  \n",
            " 4   carbody           205 non-null    int64  \n",
            " 5   drivewheel        205 non-null    object \n",
            " 6   enginelocation    205 non-null    object \n",
            " 7   wheelbase         205 non-null    float64\n",
            " 8   carlength         205 non-null    float64\n",
            " 9   carwidth          205 non-null    float64\n",
            " 10  carheight         205 non-null    float64\n",
            " 11  curbweight        205 non-null    int64  \n",
            " 12  enginetype        205 non-null    object \n",
            " 13  cylindernumber    205 non-null    object \n",
            " 14  enginesize        205 non-null    int64  \n",
            " 15  fuelsystem        205 non-null    object \n",
            " 16  boreratio         205 non-null    float64\n",
            " 17  stroke            205 non-null    float64\n",
            " 18  compressionratio  205 non-null    float64\n",
            " 19  horsepower        205 non-null    int64  \n",
            " 20  peakrpm           205 non-null    int64  \n",
            " 21  citympg           205 non-null    int64  \n",
            " 22  highwaympg        205 non-null    int64  \n",
            " 23  price             205 non-null    float64\n",
            "dtypes: float64(8), int64(11), object(5)\n",
            "memory usage: 38.6+ KB\n"
          ]
        }
      ]
    },
    {
      "cell_type": "code",
      "source": [
        "df_num = df.select_dtypes(include=['int64', 'float64'])"
      ],
      "metadata": {
        "id": "EJAtGI28uELv"
      },
      "execution_count": null,
      "outputs": []
    },
    {
      "cell_type": "code",
      "source": [
        "X_train, X_test, y_train, y_test = train_test_split(df_num.drop('price', axis=1),\n",
        "                                                    df_num['price'],\n",
        "                                                    test_size=0.15)"
      ],
      "metadata": {
        "id": "jIkbcH9duVLq"
      },
      "execution_count": null,
      "outputs": []
    },
    {
      "cell_type": "code",
      "source": [
        "X_train.shape"
      ],
      "metadata": {
        "colab": {
          "base_uri": "https://localhost:8080/"
        },
        "id": "iPjlzuXhuq8Z",
        "outputId": "b5cb763d-a988-4ecc-cac6-9c1121c4bc13"
      },
      "execution_count": null,
      "outputs": [
        {
          "output_type": "execute_result",
          "data": {
            "text/plain": [
              "(174, 18)"
            ]
          },
          "metadata": {},
          "execution_count": 71
        }
      ]
    },
    {
      "cell_type": "code",
      "source": [
        "from sklearn.preprocessing import StandardScaler\n",
        "\n",
        "scaler = StandardScaler()\n",
        "X_train = scaler.fit_transform(X_train)\n",
        "X_test = scaler.transform(X_test)"
      ],
      "metadata": {
        "id": "3yrG17Itu9H6"
      },
      "execution_count": null,
      "outputs": []
    },
    {
      "cell_type": "code",
      "source": [
        "max_y = y_train.max()\n",
        "y_train = y_train / max_y\n",
        "y_test = y_test / max_y"
      ],
      "metadata": {
        "id": "rY8_nPSFvDFr"
      },
      "execution_count": null,
      "outputs": []
    },
    {
      "cell_type": "code",
      "source": [
        "# define model\n",
        "model = Sequential([\n",
        "    Dense(16, input_shape=(18,), activation='relu'),\n",
        "    Dense(8, activation='relu'),\n",
        "    Dense(4, activation='relu'),\n",
        "    Dense(1, activation='linear')\n",
        "])"
      ],
      "metadata": {
        "id": "1LlFUqYWvrsF"
      },
      "execution_count": null,
      "outputs": []
    },
    {
      "cell_type": "code",
      "source": [
        "model.compile(loss='mean_squared_error', optimizer='adam')"
      ],
      "metadata": {
        "id": "bWJ0XmnHwTz3"
      },
      "execution_count": null,
      "outputs": []
    },
    {
      "cell_type": "code",
      "source": [
        "history = model.fit(X_train, y_train, epochs=200, batch_size=4, validation_data=(X_test, y_test), verbose=0)"
      ],
      "metadata": {
        "id": "hT6tplFPwz7s"
      },
      "execution_count": null,
      "outputs": []
    },
    {
      "cell_type": "code",
      "source": [
        "x_axis = np.arange(1,201)\n",
        "plt.plot(x_axis, history.history['loss'], label='train_loss')\n",
        "plt.plot(x_axis, history.history['val_loss'], label='val_loss')\n",
        "plt.legend()"
      ],
      "metadata": {
        "colab": {
          "base_uri": "https://localhost:8080/",
          "height": 282
        },
        "id": "B6Og9t_KxEm3",
        "outputId": "42a6ffad-2a86-4712-f6ba-8b8fbe49fe3d"
      },
      "execution_count": null,
      "outputs": [
        {
          "output_type": "execute_result",
          "data": {
            "text/plain": [
              "<matplotlib.legend.Legend at 0x7fa04045fe90>"
            ]
          },
          "metadata": {},
          "execution_count": 92
        },
        {
          "output_type": "display_data",
          "data": {
            "image/png": "[encoded data removed]",
            "text/plain": [
              "<Figure size 432x288 with 1 Axes>"
            ]
          },
          "metadata": {
            "needs_background": "light"
          }
        }
      ]
    },
    {
      "cell_type": "code",
      "source": [
        "X_new = X_test[0]\n",
        "X_new"
      ],
      "metadata": {
        "colab": {
          "base_uri": "https://localhost:8080/"
        },
        "id": "AK0YUyRuxnxw",
        "outputId": "46922f32-90fd-4786-9648-3523a7b8a391"
      },
      "execution_count": null,
      "outputs": [
        {
          "output_type": "execute_result",
          "data": {
            "text/plain": [
              "array([-0.68267309, -0.32905965, -0.46559985,  0.88063057,  1.42995812,\n",
              "       -0.29152318, -0.01503516, -0.22956041,  0.4831959 , -0.23820361,\n",
              "       -0.4386886 ,  1.08604827, -2.13829056, -0.28873948, -0.53736752,\n",
              "       -0.66976055, -0.35279768, -0.26660004])"
            ]
          },
          "metadata": {},
          "execution_count": 101
        }
      ]
    },
    {
      "cell_type": "code",
      "source": [
        "X_new = np.array([X_new])"
      ],
      "metadata": {
        "id": "7wY_iWO8yhJ7"
      },
      "execution_count": null,
      "outputs": []
    },
    {
      "cell_type": "code",
      "source": [
        "res = model.predict(X_new)\n",
        "res * max_y"
      ],
      "metadata": {
        "colab": {
          "base_uri": "https://localhost:8080/"
        },
        "id": "iSpAgZjXyI-m",
        "outputId": "c9c37ba7-d9b4-477f-bf0c-36537761cf7c"
      },
      "execution_count": null,
      "outputs": [
        {
          "output_type": "execute_result",
          "data": {
            "text/plain": [
              "array([[9593.816]], dtype=float32)"
            ]
          },
          "metadata": {},
          "execution_count": 109
        }
      ]
    },
    {
      "cell_type": "markdown",
      "source": [
        "### klasifikasi handwriting digits"
      ],
      "metadata": {
        "id": "vqPlyyZq0WkQ"
      }
    },
    {
      "cell_type": "code",
      "source": [
        "import tensorflow as tf\n",
        "import matplotlib.pyplot as plt"
      ],
      "metadata": {
        "id": "gHW_EhrdyPEq"
      },
      "execution_count": null,
      "outputs": []
    },
    {
      "cell_type": "code",
      "source": [
        "# download data\n",
        "(X_train, y_train), (X_test, y_test) = tf.keras.datasets.mnist.load_data()"
      ],
      "metadata": {
        "id": "fVOOBQrZ0oyJ"
      },
      "execution_count": null,
      "outputs": []
    },
    {
      "cell_type": "code",
      "source": [
        "plt.imshow(X_train[10], cmap='binary')\n",
        "plt.title(y_train[10])"
      ],
      "metadata": {
        "colab": {
          "base_uri": "https://localhost:8080/",
          "height": 298
        },
        "id": "myuoPtkr0xMO",
        "outputId": "bba8ee0b-26cd-4750-f6a5-26b630800be6"
      },
      "execution_count": null,
      "outputs": [
        {
          "output_type": "execute_result",
          "data": {
            "text/plain": [
              "Text(0.5, 1.0, '3')"
            ]
          },
          "metadata": {},
          "execution_count": 117
        },
        {
          "output_type": "display_data",
          "data": {
            "image/png": "[encoded data removed]",
            "text/plain": [
              "<Figure size 432x288 with 1 Axes>"
            ]
          },
          "metadata": {
            "needs_background": "light"
          }
        }
      ]
    },
    {
      "cell_type": "code",
      "source": [
        "X_train = X_train / 255.0\n",
        "X_test = X_test / 255.0"
      ],
      "metadata": {
        "id": "KsyV9LGM1DXL"
      },
      "execution_count": null,
      "outputs": []
    },
    {
      "cell_type": "code",
      "source": [
        "X_train.shape"
      ],
      "metadata": {
        "colab": {
          "base_uri": "https://localhost:8080/"
        },
        "id": "4PlKepdX1c8x",
        "outputId": "4802e29e-d81f-4e47-d83e-9967375215d6"
      },
      "execution_count": null,
      "outputs": [
        {
          "output_type": "execute_result",
          "data": {
            "text/plain": [
              "(60000, 28, 28)"
            ]
          },
          "metadata": {},
          "execution_count": 119
        }
      ]
    },
    {
      "cell_type": "code",
      "source": [
        "from sklearn.model_selection import train_test_split\n",
        "\n",
        "X_train, X_val, y_train, y_val = train_test_split(X_train, y_train, test_size=0.2)"
      ],
      "metadata": {
        "id": "FPYag5Ix1m_m"
      },
      "execution_count": null,
      "outputs": []
    },
    {
      "cell_type": "code",
      "source": [
        "# build model\n",
        "from tensorflow.keras.models import Sequential\n",
        "from tensorflow.keras.layers import Dense, Flatten\n",
        "\n",
        "model = Sequential([\n",
        "                    Flatten(input_shape=[28, 28]),\n",
        "                    Dense(512, activation='relu'),\n",
        "                    Dense(128, activation='relu'),\n",
        "                    Dense(64, activation='relu'),\n",
        "                    Dense(32, activation='relu'),\n",
        "                    Dense(10, activation='softmax')\n",
        "])"
      ],
      "metadata": {
        "id": "rv8ygaF82CZh"
      },
      "execution_count": null,
      "outputs": []
    },
    {
      "cell_type": "code",
      "source": [
        "# siapkan label\n",
        "from tensorflow.keras.utils import to_categorical\n",
        "\n",
        "y_train = to_categorical(y_train)\n",
        "y_val = to_categorical(y_val)\n",
        "y_test = to_categorical(y_test)"
      ],
      "metadata": {
        "id": "RRVRb8ab4BvR"
      },
      "execution_count": null,
      "outputs": []
    },
    {
      "cell_type": "code",
      "source": [
        "model.compile(loss='categorical_crossentropy',\n",
        "              optimizer='adam',\n",
        "              metrics=['accuracy'])"
      ],
      "metadata": {
        "id": "3ha-gSRG2FOq"
      },
      "execution_count": null,
      "outputs": []
    },
    {
      "cell_type": "code",
      "source": [
        "model.fit(X_train, y_train, epochs=10, batch_size=32, validation_data=(X_val, y_val))"
      ],
      "metadata": {
        "colab": {
          "base_uri": "https://localhost:8080/"
        },
        "id": "FkLuRA9r3yRi",
        "outputId": "06f76b9e-dd54-4863-c7bc-ed97e93ef00d"
      },
      "execution_count": null,
      "outputs": [
        {
          "output_type": "stream",
          "name": "stdout",
          "text": [
            "Epoch 1/10\n",
            "1500/1500 [==============================] - 10s 7ms/step - loss: 0.2510 - accuracy: 0.9235 - val_loss: 0.1163 - val_accuracy: 0.9632\n",
            "Epoch 2/10\n",
            "1500/1500 [==============================] - 10s 7ms/step - loss: 0.1018 - accuracy: 0.9688 - val_loss: 0.1104 - val_accuracy: 0.9667\n",
            "Epoch 3/10\n",
            "1500/1500 [==============================] - 9s 6ms/step - loss: 0.0691 - accuracy: 0.9784 - val_loss: 0.0962 - val_accuracy: 0.9740\n",
            "Epoch 4/10\n",
            "1500/1500 [==============================] - 9s 6ms/step - loss: 0.0529 - accuracy: 0.9834 - val_loss: 0.1023 - val_accuracy: 0.9725\n",
            "Epoch 5/10\n",
            "1500/1500 [==============================] - 10s 6ms/step - loss: 0.0399 - accuracy: 0.9875 - val_loss: 0.1043 - val_accuracy: 0.9712\n",
            "Epoch 6/10\n",
            "1500/1500 [==============================] - 10s 7ms/step - loss: 0.0369 - accuracy: 0.9885 - val_loss: 0.0946 - val_accuracy: 0.9774\n",
            "Epoch 7/10\n",
            "1500/1500 [==============================] - 10s 7ms/step - loss: 0.0302 - accuracy: 0.9904 - val_loss: 0.1038 - val_accuracy: 0.9737\n",
            "Epoch 8/10\n",
            "1500/1500 [==============================] - 10s 6ms/step - loss: 0.0260 - accuracy: 0.9917 - val_loss: 0.1056 - val_accuracy: 0.9742\n",
            "Epoch 9/10\n",
            "1500/1500 [==============================] - 10s 7ms/step - loss: 0.0232 - accuracy: 0.9928 - val_loss: 0.1384 - val_accuracy: 0.9707\n",
            "Epoch 10/10\n",
            "1500/1500 [==============================] - 10s 7ms/step - loss: 0.0219 - accuracy: 0.9934 - val_loss: 0.0982 - val_accuracy: 0.9779\n"
          ]
        },
        {
          "output_type": "execute_result",
          "data": {
            "text/plain": [
              "<keras.callbacks.History at 0x7fa039f0ecd0>"
            ]
          },
          "metadata": {},
          "execution_count": 141
        }
      ]
    },
    {
      "cell_type": "code",
      "source": [
        "X_new = X_test[100]"
      ],
      "metadata": {
        "id": "yOrmIkA23748"
      },
      "execution_count": null,
      "outputs": []
    },
    {
      "cell_type": "code",
      "source": [
        "plt.imshow(X_new, cmap='binary')"
      ],
      "metadata": {
        "colab": {
          "base_uri": "https://localhost:8080/",
          "height": 282
        },
        "id": "B1PF0KRD5oLr",
        "outputId": "e15fb6e0-be88-40c7-fe6b-86a7b1300626"
      },
      "execution_count": null,
      "outputs": [
        {
          "output_type": "execute_result",
          "data": {
            "text/plain": [
              "<matplotlib.image.AxesImage at 0x7fa032b77750>"
            ]
          },
          "metadata": {},
          "execution_count": 157
        },
        {
          "output_type": "display_data",
          "data": {
            "image/png": "[encoded data removed]",
            "text/plain": [
              "<Figure size 432x288 with 1 Axes>"
            ]
          },
          "metadata": {
            "needs_background": "light"
          }
        }
      ]
    },
    {
      "cell_type": "code",
      "source": [
        "X_new.reshape(1, 28, 28).shape"
      ],
      "metadata": {
        "colab": {
          "base_uri": "https://localhost:8080/"
        },
        "id": "Z5waWW_55uXt",
        "outputId": "0c92d6d2-40cb-499c-f15a-168b5eb68f0c"
      },
      "execution_count": null,
      "outputs": [
        {
          "output_type": "execute_result",
          "data": {
            "text/plain": [
              "(1, 28, 28)"
            ]
          },
          "metadata": {},
          "execution_count": 150
        }
      ]
    },
    {
      "cell_type": "code",
      "source": [
        "res = model.predict(X_new.reshape(1, 28, 28))"
      ],
      "metadata": {
        "id": "kox66FjB50Tv"
      },
      "execution_count": null,
      "outputs": []
    },
    {
      "cell_type": "code",
      "source": [
        "res.sum()"
      ],
      "metadata": {
        "colab": {
          "base_uri": "https://localhost:8080/"
        },
        "id": "JPeuBFHG53lG",
        "outputId": "e16846d5-56f2-47d2-f5e2-47e20e9433af"
      },
      "execution_count": null,
      "outputs": [
        {
          "output_type": "execute_result",
          "data": {
            "text/plain": [
              "0.99999994"
            ]
          },
          "metadata": {},
          "execution_count": 159
        }
      ]
    },
    {
      "cell_type": "code",
      "source": [
        "res.argmax()"
      ],
      "metadata": {
        "colab": {
          "base_uri": "https://localhost:8080/"
        },
        "id": "jzWYA-bm6bwV",
        "outputId": "67b229cd-a9b4-49b8-dd6f-43a8af99f7e3"
      },
      "execution_count": null,
      "outputs": [
        {
          "output_type": "execute_result",
          "data": {
            "text/plain": [
              "6"
            ]
          },
          "metadata": {},
          "execution_count": 160
        }
      ]
    },
    {
      "cell_type": "code",
      "source": [
        "idx = 151\n",
        "X_new = X_test[idx]\n",
        "plt.imshow(X_new, cmap='binary');\n",
        "res = model.predict(X_new.reshape(1, 28, 28))\n",
        "print(f\"Hasil prediksi : {res.argmax()}\")"
      ],
      "metadata": {
        "colab": {
          "base_uri": "https://localhost:8080/",
          "height": 282
        },
        "id": "mW7mufHM6qq_",
        "outputId": "3d7297df-37fa-49bb-f0e6-8defa1b8d5b4"
      },
      "execution_count": null,
      "outputs": [
        {
          "output_type": "stream",
          "name": "stdout",
          "text": [
            "Hasil prediksi : 9\n"
          ]
        },
        {
          "output_type": "display_data",
          "data": {
            "image/png": "[encoded data removed]",
            "text/plain": [
              "<Figure size 432x288 with 1 Axes>"
            ]
          },
          "metadata": {
            "needs_background": "light"
          }
        }
      ]
    },
    {
      "cell_type": "code",
      "source": [
        "model.summary()"
      ],
      "metadata": {
        "colab": {
          "base_uri": "https://localhost:8080/"
        },
        "id": "kIZCtN4Y7Cdd",
        "outputId": "856e876f-fc44-49e3-d9fc-d9964061088b"
      },
      "execution_count": null,
      "outputs": [
        {
          "output_type": "stream",
          "name": "stdout",
          "text": [
            "Model: \"sequential_7\"\n",
            "_________________________________________________________________\n",
            " Layer (type)                Output Shape              Param #   \n",
            "=================================================================\n",
            " flatten_1 (Flatten)         (None, 784)               0         \n",
            "                                                                 \n",
            " dense_23 (Dense)            (None, 512)               401920    \n",
            "                                                                 \n",
            " dense_24 (Dense)            (None, 128)               65664     \n",
            "                                                                 \n",
            " dense_25 (Dense)            (None, 64)                8256      \n",
            "                                                                 \n",
            " dense_26 (Dense)            (None, 32)                2080      \n",
            "                                                                 \n",
            " dense_27 (Dense)            (None, 10)                330       \n",
            "                                                                 \n",
            "=================================================================\n",
            "Total params: 478,250\n",
            "Trainable params: 478,250\n",
            "Non-trainable params: 0\n",
            "_________________________________________________________________\n"
          ]
        }
      ]
    },
    {
      "cell_type": "code",
      "source": [
        "X_test[0].shape"
      ],
      "metadata": {
        "colab": {
          "base_uri": "https://localhost:8080/"
        },
        "id": "BD-5gKa87Iqt",
        "outputId": "50e424c3-6574-446d-d39b-0310d16262c7"
      },
      "execution_count": null,
      "outputs": [
        {
          "output_type": "execute_result",
          "data": {
            "text/plain": [
              "(28, 28)"
            ]
          },
          "metadata": {},
          "execution_count": 165
        }
      ]
    },
    {
      "cell_type": "code",
      "source": [
        "X_train.shape"
      ],
      "metadata": {
        "colab": {
          "base_uri": "https://localhost:8080/"
        },
        "id": "oebdaE4l9CZ3",
        "outputId": "355880f7-be57-4fee-e8cc-1689b4e3ee46"
      },
      "execution_count": null,
      "outputs": [
        {
          "output_type": "execute_result",
          "data": {
            "text/plain": [
              "(48000, 28, 28)"
            ]
          },
          "metadata": {},
          "execution_count": 171
        }
      ]
    },
    {
      "cell_type": "code",
      "source": [
        "X_train_vec = X_train.reshape(48000, 28*28)"
      ],
      "metadata": {
        "id": "3xx8wHwI9FcL"
      },
      "execution_count": null,
      "outputs": []
    },
    {
      "cell_type": "code",
      "source": [
        "from sklearn.ensemble import RandomForestClassifier\n",
        "\n",
        "rf = RandomForestClassifier()\n",
        "rf.fit(X_train_vec, y_train)"
      ],
      "metadata": {
        "colab": {
          "base_uri": "https://localhost:8080/"
        },
        "id": "91BSPZ849Jlp",
        "outputId": "bc475d22-27af-4a4b-bca8-9e6911a918b2"
      },
      "execution_count": null,
      "outputs": [
        {
          "output_type": "execute_result",
          "data": {
            "text/plain": [
              "RandomForestClassifier()"
            ]
          },
          "metadata": {},
          "execution_count": 174
        }
      ]
    },
    {
      "cell_type": "code",
      "source": [
        "fe = rf.feature_importances_.reshape(28,28)\n",
        "plt.imshow(fe)"
      ],
      "metadata": {
        "colab": {
          "base_uri": "https://localhost:8080/",
          "height": 282
        },
        "id": "9vfix4q59X3S",
        "outputId": "02276228-9811-448c-aef8-3a87bc3b09bc"
      },
      "execution_count": null,
      "outputs": [
        {
          "output_type": "execute_result",
          "data": {
            "text/plain": [
              "<matplotlib.image.AxesImage at 0x7fa02a386cd0>"
            ]
          },
          "metadata": {},
          "execution_count": 177
        },
        {
          "output_type": "display_data",
          "data": {
            "image/png": "[encoded data removed]",
            "text/plain": [
              "<Figure size 432x288 with 1 Axes>"
            ]
          },
          "metadata": {
            "needs_background": "light"
          }
        }
      ]
    },
    {
      "cell_type": "code",
      "source": [
        "# pip install tensorflow\n",
        "# pip install tensorflow-cpu"
      ],
      "metadata": {
        "id": "Hp7ctNpm9wdH"
      },
      "execution_count": null,
      "outputs": []
    }
  ]
}