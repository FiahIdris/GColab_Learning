{
  "nbformat": 4,
  "nbformat_minor": 0,
  "metadata": {
    "colab": {
      "name": "NLP_class.ipynb",
      "provenance": [],
      "include_colab_link": true
    },
    "kernelspec": {
      "name": "python3",
      "display_name": "Python 3"
    },
    "language_info": {
      "name": "python"
    }
  },
  "cells": [
    {
      "cell_type": "markdown",
      "metadata": {
        "id": "view-in-github",
        "colab_type": "text"
      },
      "source": [
        "<a href=\"https://colab.research.google.com/github/FiahIdris/GColab_Learning/blob/main/NLP_class.ipynb\" target=\"_parent\"><img src=\"https://colab.research.google.com/assets/colab-badge.svg\" alt=\"Open In Colab\"/></a>"
      ]
    },
    {
      "cell_type": "markdown",
      "metadata": {
        "id": "suWpbqZfO4No"
      },
      "source": [
        "# Spam Detection using Naive Bayes"
      ]
    },
    {
      "cell_type": "code",
      "metadata": {
        "id": "9YCAe9LftVqt"
      },
      "source": [
        "import pandas as pd\n",
        "from sklearn.feature_extraction.text import CountVectorizer"
      ],
      "execution_count": null,
      "outputs": []
    },
    {
      "cell_type": "code",
      "metadata": {
        "id": "qztcNqQgtCjU"
      },
      "source": [
        "corpus = [\n",
        "          \"Saya sedang belajar data science\",\n",
        "          \"Data Science adalah disiplin ilmu yang baru\",\n",
        "          \"Saya menggunakan Python untuk melakukan pemrosesan data\"\n",
        "]"
      ],
      "execution_count": null,
      "outputs": []
    },
    {
      "cell_type": "code",
      "metadata": {
        "colab": {
          "base_uri": "https://localhost:8080/"
        },
        "id": "MEveaPkEtR6q",
        "outputId": "b1e07bfc-49c4-4bca-b401-d965411c2275"
      },
      "source": [
        "vect = CountVectorizer()\n",
        "vect.fit(corpus)"
      ],
      "execution_count": null,
      "outputs": [
        {
          "output_type": "execute_result",
          "data": {
            "text/plain": [
              "CountVectorizer(analyzer='word', binary=False, decode_error='strict',\n",
              "                dtype=<class 'numpy.int64'>, encoding='utf-8', input='content',\n",
              "                lowercase=True, max_df=1.0, max_features=None, min_df=1,\n",
              "                ngram_range=(1, 1), preprocessor=None, stop_words=None,\n",
              "                strip_accents=None, token_pattern='(?u)\\\\b\\\\w\\\\w+\\\\b',\n",
              "                tokenizer=None, vocabulary=None)"
            ]
          },
          "metadata": {},
          "execution_count": 12
        }
      ]
    },
    {
      "cell_type": "code",
      "metadata": {
        "colab": {
          "base_uri": "https://localhost:8080/"
        },
        "id": "b8rVZ10-trT5",
        "outputId": "546e032b-0094-4116-8feb-61a21d355eac"
      },
      "source": [
        "vect.get_feature_names()"
      ],
      "execution_count": null,
      "outputs": [
        {
          "output_type": "execute_result",
          "data": {
            "text/plain": [
              "['adalah',\n",
              " 'baru',\n",
              " 'belajar',\n",
              " 'data',\n",
              " 'disiplin',\n",
              " 'ilmu',\n",
              " 'melakukan',\n",
              " 'menggunakan',\n",
              " 'pemrosesan',\n",
              " 'python',\n",
              " 'saya',\n",
              " 'science',\n",
              " 'sedang',\n",
              " 'untuk',\n",
              " 'yang']"
            ]
          },
          "metadata": {},
          "execution_count": 13
        }
      ]
    },
    {
      "cell_type": "code",
      "metadata": {
        "id": "_LsW9w4Rtw9Q"
      },
      "source": [
        "corpus_vect = vect.transform(corpus)"
      ],
      "execution_count": null,
      "outputs": []
    },
    {
      "cell_type": "code",
      "metadata": {
        "colab": {
          "base_uri": "https://localhost:8080/"
        },
        "id": "0vxtUsKSt8gw",
        "outputId": "d0f73bd5-e16a-48ef-9077-0891237a1ba8"
      },
      "source": [
        "corpus_vect"
      ],
      "execution_count": null,
      "outputs": [
        {
          "output_type": "execute_result",
          "data": {
            "text/plain": [
              "<3x15 sparse matrix of type '<class 'numpy.int64'>'\n",
              "\twith 19 stored elements in Compressed Sparse Row format>"
            ]
          },
          "metadata": {},
          "execution_count": 15
        }
      ]
    },
    {
      "cell_type": "code",
      "metadata": {
        "colab": {
          "base_uri": "https://localhost:8080/"
        },
        "id": "c6bhyRNgt-gx",
        "outputId": "0b87e58e-b227-4fb7-fe96-7d726cdc903f"
      },
      "source": [
        "corpus_vect.toarray()"
      ],
      "execution_count": null,
      "outputs": [
        {
          "output_type": "execute_result",
          "data": {
            "text/plain": [
              "array([[0, 0, 1, 1, 0, 0, 0, 0, 0, 0, 1, 1, 1, 0, 0],\n",
              "       [1, 1, 0, 1, 1, 1, 0, 0, 0, 0, 0, 1, 0, 0, 1],\n",
              "       [0, 0, 0, 1, 0, 0, 1, 1, 1, 1, 1, 0, 0, 1, 0]])"
            ]
          },
          "metadata": {},
          "execution_count": 16
        }
      ]
    },
    {
      "cell_type": "code",
      "metadata": {
        "colab": {
          "base_uri": "https://localhost:8080/",
          "height": 143
        },
        "id": "egUGS6O0uPiP",
        "outputId": "2acd4162-3ad0-43c8-c679-b8d41ecbe299"
      },
      "source": [
        "pd.DataFrame(corpus_vect.toarray(), columns=vect.get_feature_names())"
      ],
      "execution_count": null,
      "outputs": [
        {
          "output_type": "execute_result",
          "data": {
            "text/html": [
              "<div>\n",
              "<style scoped>\n",
              "    .dataframe tbody tr th:only-of-type {\n",
              "        vertical-align: middle;\n",
              "    }\n",
              "\n",
              "    .dataframe tbody tr th {\n",
              "        vertical-align: top;\n",
              "    }\n",
              "\n",
              "    .dataframe thead th {\n",
              "        text-align: right;\n",
              "    }\n",
              "</style>\n",
              "<table border=\"1\" class=\"dataframe\">\n",
              "  <thead>\n",
              "    <tr style=\"text-align: right;\">\n",
              "      <th></th>\n",
              "      <th>adalah</th>\n",
              "      <th>baru</th>\n",
              "      <th>belajar</th>\n",
              "      <th>data</th>\n",
              "      <th>disiplin</th>\n",
              "      <th>ilmu</th>\n",
              "      <th>melakukan</th>\n",
              "      <th>menggunakan</th>\n",
              "      <th>pemrosesan</th>\n",
              "      <th>python</th>\n",
              "      <th>saya</th>\n",
              "      <th>science</th>\n",
              "      <th>sedang</th>\n",
              "      <th>untuk</th>\n",
              "      <th>yang</th>\n",
              "    </tr>\n",
              "  </thead>\n",
              "  <tbody>\n",
              "    <tr>\n",
              "      <th>0</th>\n",
              "      <td>0</td>\n",
              "      <td>0</td>\n",
              "      <td>1</td>\n",
              "      <td>1</td>\n",
              "      <td>0</td>\n",
              "      <td>0</td>\n",
              "      <td>0</td>\n",
              "      <td>0</td>\n",
              "      <td>0</td>\n",
              "      <td>0</td>\n",
              "      <td>1</td>\n",
              "      <td>1</td>\n",
              "      <td>1</td>\n",
              "      <td>0</td>\n",
              "      <td>0</td>\n",
              "    </tr>\n",
              "    <tr>\n",
              "      <th>1</th>\n",
              "      <td>1</td>\n",
              "      <td>1</td>\n",
              "      <td>0</td>\n",
              "      <td>1</td>\n",
              "      <td>1</td>\n",
              "      <td>1</td>\n",
              "      <td>0</td>\n",
              "      <td>0</td>\n",
              "      <td>0</td>\n",
              "      <td>0</td>\n",
              "      <td>0</td>\n",
              "      <td>1</td>\n",
              "      <td>0</td>\n",
              "      <td>0</td>\n",
              "      <td>1</td>\n",
              "    </tr>\n",
              "    <tr>\n",
              "      <th>2</th>\n",
              "      <td>0</td>\n",
              "      <td>0</td>\n",
              "      <td>0</td>\n",
              "      <td>1</td>\n",
              "      <td>0</td>\n",
              "      <td>0</td>\n",
              "      <td>1</td>\n",
              "      <td>1</td>\n",
              "      <td>1</td>\n",
              "      <td>1</td>\n",
              "      <td>1</td>\n",
              "      <td>0</td>\n",
              "      <td>0</td>\n",
              "      <td>1</td>\n",
              "      <td>0</td>\n",
              "    </tr>\n",
              "  </tbody>\n",
              "</table>\n",
              "</div>"
            ],
            "text/plain": [
              "   adalah  baru  belajar  data  disiplin  ...  saya  science  sedang  untuk  yang\n",
              "0       0     0        1     1         0  ...     1        1       1      0     0\n",
              "1       1     1        0     1         1  ...     0        1       0      0     1\n",
              "2       0     0        0     1         0  ...     1        0       0      1     0\n",
              "\n",
              "[3 rows x 15 columns]"
            ]
          },
          "metadata": {},
          "execution_count": 17
        }
      ]
    },
    {
      "cell_type": "code",
      "metadata": {
        "colab": {
          "base_uri": "https://localhost:8080/",
          "height": 81
        },
        "id": "z3ijq4GiuWj8",
        "outputId": "7b3741a0-ecd8-4b05-94fe-699d826e5180"
      },
      "source": [
        "new_sent = ['saya belajar nlp']\n",
        "new_sent_vect = vect.transform(new_sent)\n",
        "pd.DataFrame(new_sent_vect.toarray(), columns=vect.get_feature_names())"
      ],
      "execution_count": null,
      "outputs": [
        {
          "output_type": "execute_result",
          "data": {
            "text/html": [
              "<div>\n",
              "<style scoped>\n",
              "    .dataframe tbody tr th:only-of-type {\n",
              "        vertical-align: middle;\n",
              "    }\n",
              "\n",
              "    .dataframe tbody tr th {\n",
              "        vertical-align: top;\n",
              "    }\n",
              "\n",
              "    .dataframe thead th {\n",
              "        text-align: right;\n",
              "    }\n",
              "</style>\n",
              "<table border=\"1\" class=\"dataframe\">\n",
              "  <thead>\n",
              "    <tr style=\"text-align: right;\">\n",
              "      <th></th>\n",
              "      <th>adalah</th>\n",
              "      <th>baru</th>\n",
              "      <th>belajar</th>\n",
              "      <th>data</th>\n",
              "      <th>disiplin</th>\n",
              "      <th>ilmu</th>\n",
              "      <th>melakukan</th>\n",
              "      <th>menggunakan</th>\n",
              "      <th>pemrosesan</th>\n",
              "      <th>python</th>\n",
              "      <th>saya</th>\n",
              "      <th>science</th>\n",
              "      <th>sedang</th>\n",
              "      <th>untuk</th>\n",
              "      <th>yang</th>\n",
              "    </tr>\n",
              "  </thead>\n",
              "  <tbody>\n",
              "    <tr>\n",
              "      <th>0</th>\n",
              "      <td>0</td>\n",
              "      <td>0</td>\n",
              "      <td>1</td>\n",
              "      <td>0</td>\n",
              "      <td>0</td>\n",
              "      <td>0</td>\n",
              "      <td>0</td>\n",
              "      <td>0</td>\n",
              "      <td>0</td>\n",
              "      <td>0</td>\n",
              "      <td>1</td>\n",
              "      <td>0</td>\n",
              "      <td>0</td>\n",
              "      <td>0</td>\n",
              "      <td>0</td>\n",
              "    </tr>\n",
              "  </tbody>\n",
              "</table>\n",
              "</div>"
            ],
            "text/plain": [
              "   adalah  baru  belajar  data  disiplin  ...  saya  science  sedang  untuk  yang\n",
              "0       0     0        1     0         0  ...     1        0       0      0     0\n",
              "\n",
              "[1 rows x 15 columns]"
            ]
          },
          "metadata": {},
          "execution_count": 18
        }
      ]
    },
    {
      "cell_type": "markdown",
      "metadata": {
        "id": "VcjGv4ETvbBp"
      },
      "source": [
        "# Implementasi Model Machine Learning"
      ]
    },
    {
      "cell_type": "code",
      "metadata": {
        "colab": {
          "base_uri": "https://localhost:8080/"
        },
        "id": "T-yNLdxfxEJ3",
        "outputId": "12d83300-7ecd-47ac-d198-c94ab9e63f1e"
      },
      "source": [
        "! pip install pysastrawi"
      ],
      "execution_count": null,
      "outputs": [
        {
          "output_type": "stream",
          "name": "stdout",
          "text": [
            "Collecting pysastrawi\n",
            "  Downloading PySastrawi-1.2.0-py2.py3-none-any.whl (210 kB)\n",
            "\u001b[?25l\r\u001b[K     |█▋                              | 10 kB 24.7 MB/s eta 0:00:01\r\u001b[K     |███▏                            | 20 kB 25.5 MB/s eta 0:00:01\r\u001b[K     |████▊                           | 30 kB 12.7 MB/s eta 0:00:01\r\u001b[K     |██████▎                         | 40 kB 9.2 MB/s eta 0:00:01\r\u001b[K     |███████▉                        | 51 kB 5.1 MB/s eta 0:00:01\r\u001b[K     |█████████▍                      | 61 kB 5.4 MB/s eta 0:00:01\r\u001b[K     |███████████                     | 71 kB 5.7 MB/s eta 0:00:01\r\u001b[K     |████████████▌                   | 81 kB 6.4 MB/s eta 0:00:01\r\u001b[K     |██████████████                  | 92 kB 4.6 MB/s eta 0:00:01\r\u001b[K     |███████████████▋                | 102 kB 5.0 MB/s eta 0:00:01\r\u001b[K     |█████████████████▏              | 112 kB 5.0 MB/s eta 0:00:01\r\u001b[K     |██████████████████▊             | 122 kB 5.0 MB/s eta 0:00:01\r\u001b[K     |████████████████████▎           | 133 kB 5.0 MB/s eta 0:00:01\r\u001b[K     |█████████████████████▉          | 143 kB 5.0 MB/s eta 0:00:01\r\u001b[K     |███████████████████████▍        | 153 kB 5.0 MB/s eta 0:00:01\r\u001b[K     |█████████████████████████       | 163 kB 5.0 MB/s eta 0:00:01\r\u001b[K     |██████████████████████████▌     | 174 kB 5.0 MB/s eta 0:00:01\r\u001b[K     |████████████████████████████    | 184 kB 5.0 MB/s eta 0:00:01\r\u001b[K     |█████████████████████████████▋  | 194 kB 5.0 MB/s eta 0:00:01\r\u001b[K     |███████████████████████████████▏| 204 kB 5.0 MB/s eta 0:00:01\r\u001b[K     |████████████████████████████████| 210 kB 5.0 MB/s \n",
            "\u001b[?25hInstalling collected packages: pysastrawi\n",
            "Successfully installed pysastrawi-1.2.0\n"
          ]
        }
      ]
    },
    {
      "cell_type": "code",
      "metadata": {
        "id": "bO82NSbCvdn1"
      },
      "source": [
        "import pandas as pd\n",
        "from sklearn.feature_extraction.text import CountVectorizer\n",
        "from sklearn.naive_bayes import MultinomialNB\n",
        "from sklearn.model_selection import train_test_split\n",
        "from sklearn.metrics import classification_report\n",
        "from Sastrawi.StopWordRemover.StopWordRemoverFactory import StopWordRemoverFactory"
      ],
      "execution_count": null,
      "outputs": []
    },
    {
      "cell_type": "code",
      "metadata": {
        "colab": {
          "base_uri": "https://localhost:8080/",
          "height": 206
        },
        "id": "TJncc4UywQUr",
        "outputId": "37685c92-5601-4cdf-acfb-6edd4bbdd66f"
      },
      "source": [
        "df = pd.read_csv(\"https://raw.githubusercontent.com/afifai/hacktiv8-trial-class-spamdetector/main/data/dataset_sms_spam%20_v1.csv\")\n",
        "df.head()"
      ],
      "execution_count": null,
      "outputs": [
        {
          "output_type": "execute_result",
          "data": {
            "text/html": [
              "<div>\n",
              "<style scoped>\n",
              "    .dataframe tbody tr th:only-of-type {\n",
              "        vertical-align: middle;\n",
              "    }\n",
              "\n",
              "    .dataframe tbody tr th {\n",
              "        vertical-align: top;\n",
              "    }\n",
              "\n",
              "    .dataframe thead th {\n",
              "        text-align: right;\n",
              "    }\n",
              "</style>\n",
              "<table border=\"1\" class=\"dataframe\">\n",
              "  <thead>\n",
              "    <tr style=\"text-align: right;\">\n",
              "      <th></th>\n",
              "      <th>Teks</th>\n",
              "      <th>label</th>\n",
              "    </tr>\n",
              "  </thead>\n",
              "  <tbody>\n",
              "    <tr>\n",
              "      <th>0</th>\n",
              "      <td>[PROMO] Beli paket Flash mulai 1GB di MY TELKO...</td>\n",
              "      <td>2</td>\n",
              "    </tr>\n",
              "    <tr>\n",
              "      <th>1</th>\n",
              "      <td>2.5 GB/30 hari hanya Rp 35 Ribu Spesial buat A...</td>\n",
              "      <td>2</td>\n",
              "    </tr>\n",
              "    <tr>\n",
              "      <th>2</th>\n",
              "      <td>2016-07-08 11:47:11.Plg Yth, sisa kuota Flash ...</td>\n",
              "      <td>2</td>\n",
              "    </tr>\n",
              "    <tr>\n",
              "      <th>3</th>\n",
              "      <td>2016-08-07 11:29:47.Plg Yth, sisa kuota Flash ...</td>\n",
              "      <td>2</td>\n",
              "    </tr>\n",
              "    <tr>\n",
              "      <th>4</th>\n",
              "      <td>4.5GB/30 hari hanya Rp 55 Ribu Spesial buat an...</td>\n",
              "      <td>2</td>\n",
              "    </tr>\n",
              "  </tbody>\n",
              "</table>\n",
              "</div>"
            ],
            "text/plain": [
              "                                                Teks  label\n",
              "0  [PROMO] Beli paket Flash mulai 1GB di MY TELKO...      2\n",
              "1  2.5 GB/30 hari hanya Rp 35 Ribu Spesial buat A...      2\n",
              "2  2016-07-08 11:47:11.Plg Yth, sisa kuota Flash ...      2\n",
              "3  2016-08-07 11:29:47.Plg Yth, sisa kuota Flash ...      2\n",
              "4  4.5GB/30 hari hanya Rp 55 Ribu Spesial buat an...      2"
            ]
          },
          "metadata": {},
          "execution_count": 20
        }
      ]
    },
    {
      "cell_type": "code",
      "metadata": {
        "id": "6fg7tLd9wbgd"
      },
      "source": [
        "df.label = df.label.map({0:\"SMS Biasa\", 1:\"SMS Penipuan\", 2:\"SMS Operator\"})"
      ],
      "execution_count": null,
      "outputs": []
    },
    {
      "cell_type": "code",
      "metadata": {
        "colab": {
          "base_uri": "https://localhost:8080/"
        },
        "id": "UpTzmveKwVP2",
        "outputId": "5cac3208-91b4-486a-a163-759bd883e670"
      },
      "source": [
        "df.label.value_counts()"
      ],
      "execution_count": null,
      "outputs": [
        {
          "output_type": "execute_result",
          "data": {
            "text/plain": [
              "SMS Biasa       569\n",
              "SMS Penipuan    335\n",
              "SMS Operator    239\n",
              "Name: label, dtype: int64"
            ]
          },
          "metadata": {},
          "execution_count": 22
        }
      ]
    },
    {
      "cell_type": "code",
      "metadata": {
        "id": "DvBSpIOvwm63"
      },
      "source": [
        "# split data\n",
        "X_train, X_test, y_train, y_test = train_test_split(df.Teks, df.label, test_size=0.2)"
      ],
      "execution_count": null,
      "outputs": []
    },
    {
      "cell_type": "code",
      "metadata": {
        "id": "9ubmFe2uw5q5"
      },
      "source": [
        "stp = StopWordRemoverFactory().get_stop_words()\n",
        "vect = CountVectorizer()"
      ],
      "execution_count": null,
      "outputs": []
    },
    {
      "cell_type": "code",
      "metadata": {
        "id": "seUS6da8xQ3a"
      },
      "source": [
        "X_train_vec = vect.fit_transform(X_train)\n",
        "X_test_vec = vect.transform(X_test)"
      ],
      "execution_count": null,
      "outputs": []
    },
    {
      "cell_type": "code",
      "metadata": {
        "colab": {
          "base_uri": "https://localhost:8080/"
        },
        "id": "fe3_1J4SxYYv",
        "outputId": "efe0ea5a-81ac-46a0-b562-94630de06af7"
      },
      "source": [
        "X_train_vec"
      ],
      "execution_count": null,
      "outputs": [
        {
          "output_type": "execute_result",
          "data": {
            "text/plain": [
              "<914x4340 sparse matrix of type '<class 'numpy.int64'>'\n",
              "\twith 15375 stored elements in Compressed Sparse Row format>"
            ]
          },
          "metadata": {},
          "execution_count": 37
        }
      ]
    },
    {
      "cell_type": "code",
      "metadata": {
        "colab": {
          "base_uri": "https://localhost:8080/"
        },
        "id": "D6Lz15v7xbb9",
        "outputId": "21d2656f-e109-4095-91dc-1390eaa730c5"
      },
      "source": [
        "X_test_vec"
      ],
      "execution_count": null,
      "outputs": [
        {
          "output_type": "execute_result",
          "data": {
            "text/plain": [
              "<229x4340 sparse matrix of type '<class 'numpy.int64'>'\n",
              "\twith 3163 stored elements in Compressed Sparse Row format>"
            ]
          },
          "metadata": {},
          "execution_count": 38
        }
      ]
    },
    {
      "cell_type": "code",
      "metadata": {
        "colab": {
          "base_uri": "https://localhost:8080/"
        },
        "id": "7_OcyUbjxd0M",
        "outputId": "99913bff-4f4a-47e5-e98a-7c5bb04e7541"
      },
      "source": [
        "# training naive bayes\n",
        "nb = MultinomialNB()\n",
        "nb.fit(X_train_vec, y_train)"
      ],
      "execution_count": null,
      "outputs": [
        {
          "output_type": "execute_result",
          "data": {
            "text/plain": [
              "MultinomialNB(alpha=1.0, class_prior=None, fit_prior=True)"
            ]
          },
          "metadata": {},
          "execution_count": 39
        }
      ]
    },
    {
      "cell_type": "code",
      "metadata": {
        "colab": {
          "base_uri": "https://localhost:8080/"
        },
        "id": "rBuTJAWKxnrn",
        "outputId": "8011600b-07ca-4478-af2c-e43d219f6a93"
      },
      "source": [
        "# evaluasi\n",
        "y_pred = nb.predict(X_test_vec)\n",
        "print(classification_report(y_test, y_pred))"
      ],
      "execution_count": null,
      "outputs": [
        {
          "output_type": "stream",
          "name": "stdout",
          "text": [
            "              precision    recall  f1-score   support\n",
            "\n",
            "   SMS Biasa       0.98      0.94      0.96       121\n",
            "SMS Operator       0.89      0.98      0.94        52\n",
            "SMS Penipuan       0.93      0.93      0.93        56\n",
            "\n",
            "    accuracy                           0.95       229\n",
            "   macro avg       0.94      0.95      0.94       229\n",
            "weighted avg       0.95      0.95      0.95       229\n",
            "\n"
          ]
        }
      ]
    },
    {
      "cell_type": "code",
      "metadata": {
        "id": "1sTHHr30xvzN"
      },
      "source": [
        "# inference\n",
        "sms_baru = [\n",
        "            \"hai bro, apa kabar ?\",\n",
        "            \"dapatkan kuota 1 GB per hari hanya Rp. 1000 dari aplikasi MyGSM\",\n",
        "            \"pesugihan halal, lipatgandakan uang anda dan lunasi hutang-hutang anda bersama saya\"\n",
        "]"
      ],
      "execution_count": null,
      "outputs": []
    },
    {
      "cell_type": "code",
      "metadata": {
        "colab": {
          "base_uri": "https://localhost:8080/"
        },
        "id": "8qH6RcHyyM6r",
        "outputId": "1b67849b-16b2-4a54-eabc-6bedec807312"
      },
      "source": [
        "sms_baru_vect = vect.transform(sms_baru)\n",
        "nb.predict(sms_baru_vect)"
      ],
      "execution_count": null,
      "outputs": [
        {
          "output_type": "execute_result",
          "data": {
            "text/plain": [
              "array(['SMS Biasa', 'SMS Operator', 'SMS Penipuan'], dtype='<U12')"
            ]
          },
          "metadata": {},
          "execution_count": 42
        }
      ]
    },
    {
      "cell_type": "code",
      "metadata": {
        "id": "M8kgqzLWyfzt"
      },
      "source": [
        ""
      ],
      "execution_count": null,
      "outputs": []
    },
    {
      "cell_type": "markdown",
      "metadata": {
        "id": "IKmtq071YjWx"
      },
      "source": [
        "# Implementasi dengan Deep Learning"
      ]
    },
    {
      "cell_type": "code",
      "metadata": {
        "id": "G8h0_OLyYm0t"
      },
      "source": [
        "import pandas as pd\n",
        "from sklearn.model_selection import train_test_split"
      ],
      "execution_count": null,
      "outputs": []
    },
    {
      "cell_type": "code",
      "metadata": {
        "colab": {
          "base_uri": "https://localhost:8080/",
          "height": 206
        },
        "id": "2syVx21RYvSp",
        "outputId": "8f198f60-6ba1-4606-9594-230651abc290"
      },
      "source": [
        "df = pd.read_csv(\"https://raw.githubusercontent.com/afifai/hacktiv8-trial-class-spamdetector/main/data/dataset_sms_spam%20_v1.csv\")\n",
        "df.head()"
      ],
      "execution_count": null,
      "outputs": [
        {
          "output_type": "execute_result",
          "data": {
            "text/html": [
              "<div>\n",
              "<style scoped>\n",
              "    .dataframe tbody tr th:only-of-type {\n",
              "        vertical-align: middle;\n",
              "    }\n",
              "\n",
              "    .dataframe tbody tr th {\n",
              "        vertical-align: top;\n",
              "    }\n",
              "\n",
              "    .dataframe thead th {\n",
              "        text-align: right;\n",
              "    }\n",
              "</style>\n",
              "<table border=\"1\" class=\"dataframe\">\n",
              "  <thead>\n",
              "    <tr style=\"text-align: right;\">\n",
              "      <th></th>\n",
              "      <th>Teks</th>\n",
              "      <th>label</th>\n",
              "    </tr>\n",
              "  </thead>\n",
              "  <tbody>\n",
              "    <tr>\n",
              "      <th>0</th>\n",
              "      <td>[PROMO] Beli paket Flash mulai 1GB di MY TELKO...</td>\n",
              "      <td>2</td>\n",
              "    </tr>\n",
              "    <tr>\n",
              "      <th>1</th>\n",
              "      <td>2.5 GB/30 hari hanya Rp 35 Ribu Spesial buat A...</td>\n",
              "      <td>2</td>\n",
              "    </tr>\n",
              "    <tr>\n",
              "      <th>2</th>\n",
              "      <td>2016-07-08 11:47:11.Plg Yth, sisa kuota Flash ...</td>\n",
              "      <td>2</td>\n",
              "    </tr>\n",
              "    <tr>\n",
              "      <th>3</th>\n",
              "      <td>2016-08-07 11:29:47.Plg Yth, sisa kuota Flash ...</td>\n",
              "      <td>2</td>\n",
              "    </tr>\n",
              "    <tr>\n",
              "      <th>4</th>\n",
              "      <td>4.5GB/30 hari hanya Rp 55 Ribu Spesial buat an...</td>\n",
              "      <td>2</td>\n",
              "    </tr>\n",
              "  </tbody>\n",
              "</table>\n",
              "</div>"
            ],
            "text/plain": [
              "                                                Teks  label\n",
              "0  [PROMO] Beli paket Flash mulai 1GB di MY TELKO...      2\n",
              "1  2.5 GB/30 hari hanya Rp 35 Ribu Spesial buat A...      2\n",
              "2  2016-07-08 11:47:11.Plg Yth, sisa kuota Flash ...      2\n",
              "3  2016-08-07 11:29:47.Plg Yth, sisa kuota Flash ...      2\n",
              "4  4.5GB/30 hari hanya Rp 55 Ribu Spesial buat an...      2"
            ]
          },
          "metadata": {},
          "execution_count": 2
        }
      ]
    },
    {
      "cell_type": "code",
      "metadata": {
        "id": "q2aSwud3Yy3K"
      },
      "source": [
        "train_df, test_df = train_test_split(df, test_size=0.2)"
      ],
      "execution_count": null,
      "outputs": []
    },
    {
      "cell_type": "code",
      "metadata": {
        "colab": {
          "base_uri": "https://localhost:8080/"
        },
        "id": "HWHI8FIZY47_",
        "outputId": "02141836-486e-4219-8849-844fbdef9b62"
      },
      "source": [
        "train_df.shape"
      ],
      "execution_count": null,
      "outputs": [
        {
          "output_type": "execute_result",
          "data": {
            "text/plain": [
              "(914, 2)"
            ]
          },
          "metadata": {},
          "execution_count": 4
        }
      ]
    },
    {
      "cell_type": "code",
      "metadata": {
        "colab": {
          "base_uri": "https://localhost:8080/"
        },
        "id": "Pf8eDRC_Y8zf",
        "outputId": "2ea21c5b-08b0-461c-d62b-166e8f02510a"
      },
      "source": [
        "test_df.shape"
      ],
      "execution_count": null,
      "outputs": [
        {
          "output_type": "execute_result",
          "data": {
            "text/plain": [
              "(229, 2)"
            ]
          },
          "metadata": {},
          "execution_count": 5
        }
      ]
    },
    {
      "cell_type": "code",
      "metadata": {
        "colab": {
          "base_uri": "https://localhost:8080/"
        },
        "id": "fUVHAAL5Y_uK",
        "outputId": "3a007dcd-1e23-4f23-b1ed-e408998a1627"
      },
      "source": [
        "import random\n",
        "random_index = random.randint(0, len(train_df) - 5)\n",
        "for row in train_df[[\"Teks\", \"label\"]][random_index:random_index + 5].itertuples():\n",
        "  _, text, target = row\n",
        "  if target == 0:\n",
        "    print(f\"Target: {target} (SMS BIASA)\")\n",
        "  elif target == 1:\n",
        "    print(f\"Target: {target} (SMS PENIPUAN)\")\n",
        "  elif target == 2:\n",
        "    print(f\"Target: {target} (SMS PROMOSI)\")\n",
        "  print(f\"Teks: {text}\\n\")\n",
        "  print(\"---\\n\")"
      ],
      "execution_count": null,
      "outputs": [
        {
          "output_type": "stream",
          "name": "stdout",
          "text": [
            "Target: 0 (SMS BIASA)\n",
            "Teks: Eh di kosan nama1 maksudnya, buat temen nama1 , buat september\n",
            "\n",
            "---\n",
            "\n",
            "Target: 0 (SMS BIASA)\n",
            "Teks: Yg mau ngampus aku pengen titip bawain SKL aku di prodi😭\n",
            "\n",
            "---\n",
            "\n",
            "Target: 1 (SMS PENIPUAN)\n",
            "Teks: Kak, kirimkan dulu pulsa25rb di no baruku ini 085377771822\n",
            "\n",
            "---\n",
            "\n",
            "Target: 2 (SMS PROMOSI)\n",
            "Teks: Rp30rb/bln utk 3 bln (hrg normal Rp59rb utk bln ke-4 dst) bisa NELPON & SMS SEPUASNYA ke IM3 plus kuota 3GB+10GB (4G).  Mau? Ketik YA ke 919 sd 05-Aug-16\n",
            "\n",
            "---\n",
            "\n",
            "Target: 1 (SMS PENIPUAN)\n",
            "Teks: Maaf saya Bu Nur, tanah yang di tanjung api-api saya sudah lihat dan sudah cocok, untuk masalah harga tolong hubungi suami saya aja, pak H.SULAIMAN di no hp. 08xxxxxx, karena kebetulan saya ada acara.Tks\n",
            "\n",
            "---\n",
            "\n"
          ]
        }
      ]
    },
    {
      "cell_type": "code",
      "metadata": {
        "id": "h9oKl_YKZpqC"
      },
      "source": [
        "# siapkan target\n",
        "from tensorflow.keras.utils import to_categorical\n",
        "\n",
        "X_train, y_train = train_df.Teks, train_df.label\n",
        "X_test, y_test = test_df.Teks, test_df.label\n",
        "\n",
        "def prepare_target(y_train, y_test):\n",
        "  y_train_enc = to_categorical(y_train)\n",
        "  y_test_enc = to_categorical(y_test)\n",
        "  return y_train_enc, y_test_enc\n",
        "\n",
        "y_train, y_test = prepare_target(y_train, y_test)"
      ],
      "execution_count": null,
      "outputs": []
    },
    {
      "cell_type": "code",
      "metadata": {
        "id": "TFU52ysCazK0"
      },
      "source": [
        "# split train-val\n",
        "train_sent, val_sent, train_labels, val_labels = train_test_split(X_train.to_numpy(),\n",
        "                                                                   y_train,\n",
        "                                                                   test_size=0.2)"
      ],
      "execution_count": null,
      "outputs": []
    },
    {
      "cell_type": "code",
      "metadata": {
        "colab": {
          "base_uri": "https://localhost:8080/"
        },
        "id": "1H6eOZB2bJ3h",
        "outputId": "c3ed377c-81ff-43f9-c618-27976e4c5c7b"
      },
      "source": [
        "train_sent[:10], train_labels[:10]"
      ],
      "execution_count": null,
      "outputs": [
        {
          "output_type": "execute_result",
          "data": {
            "text/plain": [
              "(array(['Makasih gais doakan kami yg masih berjuang ya 💪',\n",
              "        'Transfer saja uangnya ke rek ini.mandiri.NO Rek: 152-00-1236312-9.a/n:DARMAN. klau sdah di Transfer SMS saja ke nmor ini Trima kasih',\n",
              "        'Kalo engga belakang aqila ada 600/bulan gatau masih apa engga deh',\n",
              "        'Rp30rb/bln utk 3 bln (hrg normal Rp59rb utk bln ke-4 dst) bisa NELPON & SMS SEPUASNYA ke IM3 plus kuota 3GB+10GB (4G). \\xa0Mau? Ketik YA ke 919 sd 05-Aug-16',\n",
              "        'Surat Keputusan PT.TRI.3 Slamat No.08966xxx Resmi M-dptkan HONDA JAZZ Rs KODE Pin:477BFG7S Info Hub:08606490199 KLIK: www.hadiah-tricare.com',\n",
              "        'kita lewat kolam renang? di gymnas atau gik',\n",
              "        'Patah hatinya level tinggi, jd bisa quotes begitu put',\n",
              "        'Ka aku ga bisa liat kosannya skrg :( soalnya ngerjain uts take home ka ',\n",
              "        'Asal pagi pagi ya.. Bjam 10an saya sudah ke jakarta..',\n",
              "        'Mohon maaf lahir dan batin ipa3😚😚'], dtype=object),\n",
              " array([[1., 0., 0.],\n",
              "        [0., 1., 0.],\n",
              "        [1., 0., 0.],\n",
              "        [0., 0., 1.],\n",
              "        [0., 1., 0.],\n",
              "        [1., 0., 0.],\n",
              "        [1., 0., 0.],\n",
              "        [1., 0., 0.],\n",
              "        [1., 0., 0.],\n",
              "        [1., 0., 0.]], dtype=float32))"
            ]
          },
          "metadata": {},
          "execution_count": 39
        }
      ]
    },
    {
      "cell_type": "markdown",
      "metadata": {
        "id": "oyj3uSfDbdyk"
      },
      "source": [
        "## Tokenisasi"
      ]
    },
    {
      "cell_type": "code",
      "metadata": {
        "id": "nQNR1i1gbN9v"
      },
      "source": [
        "import tensorflow as tf\n",
        "from tensorflow.keras.layers.experimental.preprocessing import TextVectorization"
      ],
      "execution_count": null,
      "outputs": []
    },
    {
      "cell_type": "code",
      "metadata": {
        "colab": {
          "base_uri": "https://localhost:8080/"
        },
        "id": "a8U_GIoDboWK",
        "outputId": "d34219cc-b948-4e0f-d62d-1bbd86e8c4a6"
      },
      "source": [
        "round(sum([len(i.split()) for i in train_sent])/len(train_sent))"
      ],
      "execution_count": null,
      "outputs": [
        {
          "output_type": "execute_result",
          "data": {
            "text/plain": [
              "16"
            ]
          },
          "metadata": {},
          "execution_count": 41
        }
      ]
    },
    {
      "cell_type": "code",
      "metadata": {
        "id": "cuKK8hY0b6Hn"
      },
      "source": [
        "# setup text vect\n",
        "max_vocab_length = 4000\n",
        "max_length = 17\n",
        "\n",
        "text_vectorization = TextVectorization(max_tokens=max_vocab_length,\n",
        "                                       standardize=\"lower_and_strip_punctuation\",\n",
        "                                       split=\"whitespace\",\n",
        "                                       ngrams=None,\n",
        "                                       output_mode='int',\n",
        "                                       output_sequence_length=max_length)"
      ],
      "execution_count": null,
      "outputs": []
    },
    {
      "cell_type": "code",
      "metadata": {
        "id": "xaZ7DDBBdY5C"
      },
      "source": [
        "# vektorisasi teks\n",
        "text_vectorization.adapt(train_sent)"
      ],
      "execution_count": null,
      "outputs": []
    },
    {
      "cell_type": "code",
      "metadata": {
        "colab": {
          "base_uri": "https://localhost:8080/"
        },
        "id": "Iefgrr-JdoYf",
        "outputId": "c8832ce7-7ac0-4460-fc65-d602788e0dc3"
      },
      "source": [
        "# sms baru\n",
        "sample_sms = \"selamat no anda memenangkan undian berhadiah babi ngepet\"\n",
        "text_vectorization([sample_sms])"
      ],
      "execution_count": null,
      "outputs": [
        {
          "output_type": "execute_result",
          "data": {
            "text/plain": [
              "<tf.Tensor: shape=(1, 17), dtype=int64, numpy=\n",
              "array([[  31,   13,    3, 2416,   84, 3344,    1,    1,    0,    0,    0,\n",
              "           0,    0,    0,    0,    0,    0]])>"
            ]
          },
          "metadata": {},
          "execution_count": 44
        }
      ]
    },
    {
      "cell_type": "code",
      "metadata": {
        "colab": {
          "base_uri": "https://localhost:8080/",
          "height": 35
        },
        "id": "ucZJ10oDebTk",
        "outputId": "d554a673-4583-4ae1-cdcb-b0baa0c65e6f"
      },
      "source": [
        "text_vectorization.get_vocabulary()[0]"
      ],
      "execution_count": null,
      "outputs": [
        {
          "output_type": "execute_result",
          "data": {
            "application/vnd.google.colaboratory.intrinsic+json": {
              "type": "string"
            },
            "text/plain": [
              "''"
            ]
          },
          "metadata": {},
          "execution_count": 45
        }
      ]
    },
    {
      "cell_type": "code",
      "metadata": {
        "colab": {
          "base_uri": "https://localhost:8080/"
        },
        "id": "BoJWZpkheg1-",
        "outputId": "152700cd-9b5c-4f86-beda-a60f6c3eed09"
      },
      "source": [
        "random_sms = random.choice(train_sent)\n",
        "print(f\"Teks Asli : {random_sms}\\n\")\n",
        "text_vectorization([random_sms])"
      ],
      "execution_count": null,
      "outputs": [
        {
          "output_type": "stream",
          "name": "stdout",
          "text": [
            "Teks Asli : Oh pantesan tau gitu lgsg foto dipusatnya aja put\n",
            "\n"
          ]
        },
        {
          "output_type": "execute_result",
          "data": {
            "text/plain": [
              "<tf.Tensor: shape=(1, 17), dtype=int64, numpy=\n",
              "array([[ 680, 2171,  181,  353,  543, 1159, 3085,   17,  505,    0,    0,\n",
              "           0,    0,    0,    0,    0,    0]])>"
            ]
          },
          "metadata": {},
          "execution_count": 46
        }
      ]
    },
    {
      "cell_type": "code",
      "metadata": {
        "id": "U2n_JOKBe93c"
      },
      "source": [
        ""
      ],
      "execution_count": null,
      "outputs": []
    },
    {
      "cell_type": "markdown",
      "metadata": {
        "id": "LeTtV5JKfNx8"
      },
      "source": [
        "## Buat Embedding Layer"
      ]
    },
    {
      "cell_type": "code",
      "metadata": {
        "colab": {
          "base_uri": "https://localhost:8080/"
        },
        "id": "AVBhiFAKfPMd",
        "outputId": "b9c6c2db-b131-4914-be58-eb09f8dbd172"
      },
      "source": [
        "from tensorflow.keras import layers\n",
        "\n",
        "embedding = layers.Embedding(input_dim=max_vocab_length,\n",
        "                             output_dim=128,\n",
        "                             embeddings_initializer=\"uniform\",\n",
        "                             input_length=max_length)\n",
        "\n",
        "embedding"
      ],
      "execution_count": null,
      "outputs": [
        {
          "output_type": "execute_result",
          "data": {
            "text/plain": [
              "<keras.layers.embeddings.Embedding at 0x7f2001cdd290>"
            ]
          },
          "metadata": {},
          "execution_count": 47
        }
      ]
    },
    {
      "cell_type": "code",
      "metadata": {
        "colab": {
          "base_uri": "https://localhost:8080/"
        },
        "id": "5Q7Lj94Rgnsr",
        "outputId": "de603dc1-a6dc-4db8-95c8-856b57903d78"
      },
      "source": [
        "random_sms = random.choice(train_sent)\n",
        "print(f\"Teks Asli : {random_sms}\\n\")\n",
        "\n",
        "sample_embedded = embedding(text_vectorization([random_sms]))\n",
        "sample_embedded.shape"
      ],
      "execution_count": null,
      "outputs": [
        {
          "output_type": "stream",
          "name": "stdout",
          "text": [
            "Teks Asli : Terimakasih, saat ini Anda masih terdaftar sebagai pelanggan TCash.\n",
            "\n"
          ]
        },
        {
          "output_type": "execute_result",
          "data": {
            "text/plain": [
              "TensorShape([1, 17, 128])"
            ]
          },
          "metadata": {},
          "execution_count": 48
        }
      ]
    },
    {
      "cell_type": "code",
      "metadata": {
        "id": "Q4gR-9U5g6EV"
      },
      "source": [
        ""
      ],
      "execution_count": null,
      "outputs": []
    },
    {
      "cell_type": "markdown",
      "metadata": {
        "id": "8FjDg8PshOcf"
      },
      "source": [
        "## Pemodelan"
      ]
    },
    {
      "cell_type": "code",
      "metadata": {
        "id": "ERRtlZTFhPWR"
      },
      "source": [
        "# fc NN\n",
        "\n",
        "inputs = layers.Input(shape=(1,), dtype=\"string\")\n",
        "x = text_vectorization(inputs)\n",
        "x = embedding(x)\n",
        "x = layers.GlobalAveragePooling1D()(x)\n",
        "outputs = layers.Dense(3, activation='softmax')(x)\n",
        "model_1 = tf.keras.Model(inputs, outputs, name='model_nlp_fc')"
      ],
      "execution_count": null,
      "outputs": []
    },
    {
      "cell_type": "code",
      "metadata": {
        "id": "xCS67TLVh8Zp"
      },
      "source": [
        "# compile model\n",
        "model_1.compile(loss='categorical_crossentropy',\n",
        "                optimizer=tf.keras.optimizers.Adam(),\n",
        "                metrics=[\"accuracy\"])"
      ],
      "execution_count": null,
      "outputs": []
    },
    {
      "cell_type": "code",
      "metadata": {
        "colab": {
          "base_uri": "https://localhost:8080/"
        },
        "id": "3CwQ5cTRispb",
        "outputId": "1dda3b0b-dec7-4ada-cb1c-758e7c9d9a6c"
      },
      "source": [
        "model_1.summary()"
      ],
      "execution_count": null,
      "outputs": [
        {
          "output_type": "stream",
          "name": "stdout",
          "text": [
            "Model: \"model_nlp_fc\"\n",
            "_________________________________________________________________\n",
            "Layer (type)                 Output Shape              Param #   \n",
            "=================================================================\n",
            "input_3 (InputLayer)         [(None, 1)]               0         \n",
            "_________________________________________________________________\n",
            "text_vectorization_1 (TextVe (None, 17)                0         \n",
            "_________________________________________________________________\n",
            "embedding_1 (Embedding)      (None, 17, 128)           512000    \n",
            "_________________________________________________________________\n",
            "global_average_pooling1d_2 ( (None, 128)               0         \n",
            "_________________________________________________________________\n",
            "dense_1 (Dense)              (None, 3)                 387       \n",
            "=================================================================\n",
            "Total params: 512,387\n",
            "Trainable params: 512,387\n",
            "Non-trainable params: 0\n",
            "_________________________________________________________________\n"
          ]
        }
      ]
    },
    {
      "cell_type": "code",
      "metadata": {
        "colab": {
          "base_uri": "https://localhost:8080/"
        },
        "id": "-1MqLa8OiuzO",
        "outputId": "d21dc55d-c39f-4527-95c8-5b556b07ddd5"
      },
      "source": [
        "model_1_hist = model_1.fit(train_sent,\n",
        "                           train_labels,\n",
        "                           epochs=5,\n",
        "                           validation_data=(val_sent, val_labels))"
      ],
      "execution_count": null,
      "outputs": [
        {
          "output_type": "stream",
          "name": "stdout",
          "text": [
            "Epoch 1/5\n",
            "23/23 [==============================] - 1s 21ms/step - loss: 1.0560 - accuracy: 0.6648 - val_loss: 0.9985 - val_accuracy: 0.7377\n",
            "Epoch 2/5\n",
            "23/23 [==============================] - 0s 10ms/step - loss: 0.9282 - accuracy: 0.8878 - val_loss: 0.8814 - val_accuracy: 0.8197\n",
            "Epoch 3/5\n",
            "23/23 [==============================] - 0s 9ms/step - loss: 0.7811 - accuracy: 0.9056 - val_loss: 0.7485 - val_accuracy: 0.8689\n",
            "Epoch 4/5\n",
            "23/23 [==============================] - 0s 10ms/step - loss: 0.6291 - accuracy: 0.9302 - val_loss: 0.6271 - val_accuracy: 0.8798\n",
            "Epoch 5/5\n",
            "23/23 [==============================] - 0s 9ms/step - loss: 0.5010 - accuracy: 0.9412 - val_loss: 0.5334 - val_accuracy: 0.8798\n"
          ]
        }
      ]
    },
    {
      "cell_type": "code",
      "metadata": {
        "colab": {
          "base_uri": "https://localhost:8080/"
        },
        "id": "-ftTkZ-CjGKy",
        "outputId": "a625c9c7-cf50-4b40-f50e-faaa4ac6b197"
      },
      "source": [
        "model_1.evaluate(val_sent, val_labels)"
      ],
      "execution_count": null,
      "outputs": [
        {
          "output_type": "stream",
          "name": "stdout",
          "text": [
            "6/6 [==============================] - 0s 2ms/step - loss: 0.5334 - accuracy: 0.8798\n"
          ]
        },
        {
          "output_type": "execute_result",
          "data": {
            "text/plain": [
              "[0.5334129333496094, 0.8797814249992371]"
            ]
          },
          "metadata": {},
          "execution_count": 53
        }
      ]
    },
    {
      "cell_type": "code",
      "metadata": {
        "id": "q6QlDQjzjZiw"
      },
      "source": [
        "res = model_1.predict(val_sent)[:10]"
      ],
      "execution_count": null,
      "outputs": []
    },
    {
      "cell_type": "code",
      "metadata": {
        "colab": {
          "base_uri": "https://localhost:8080/"
        },
        "id": "ExhLcGn7jg7Q",
        "outputId": "929815a6-e877-4b28-8738-60decf4bd5d8"
      },
      "source": [
        "res.argmax(axis=1)"
      ],
      "execution_count": null,
      "outputs": [
        {
          "output_type": "execute_result",
          "data": {
            "text/plain": [
              "array([1, 0, 0, 1, 0, 0, 0, 0, 0, 0])"
            ]
          },
          "metadata": {},
          "execution_count": 56
        }
      ]
    },
    {
      "cell_type": "code",
      "metadata": {
        "colab": {
          "base_uri": "https://localhost:8080/"
        },
        "id": "ImvPopYTjs0v",
        "outputId": "72743d43-4a23-4e37-ab2b-61bc2361e7e7"
      },
      "source": [
        "val_sent[:10]"
      ],
      "execution_count": null,
      "outputs": [
        {
          "output_type": "execute_result",
          "data": {
            "text/plain": [
              "array(['dapatkan total hadiah ratusan juta rupiah di Kota 1000 Berkah. Caranya? Klik www.murahituim3.com/kota1000berkah Program s.d 9 Agustus 2013',\n",
              "       'Nanti kalau mau di bayar/di transfer harap hubungi dulu atasan saya Bpk ARDIANSA no tlp; 085797136879 soalnya ada perubahan pembayaran trima kasih.',\n",
              "       'Ada nama1 . Tpi gatau msh berfungsi atau engga, udh lama ga dipake sih',\n",
              "       'SLMT!! No Anda men-dpt hadiah dr:pengundian PT.TELKOMSEL No pin b89c7... Untuk melihat Hadiah Anda, silakan klik : www.telkomselpoin2222.webs.com',\n",
              "       'Ini ini udh disini mau apa aku gorengin',\n",
              "       'Mau sekalian dibawain kacamata ga, nanti aku keluar jam 10',\n",
              "       'Januari mah ambil 1x seminggu aja. Kan kita masuk seminggu sekali kalau januari.',\n",
              "       'silahkan berkas dambil di ruang saya',\n",
              "       'Besok dwm jadi ya praktikum weka. Bawa laptop.',\n",
              "       'iya, makanya aku butuh data kalian teh soalnya datanya dari sana. tapi harus ada RJ atau RD.'],\n",
              "      dtype=object)"
            ]
          },
          "metadata": {},
          "execution_count": 57
        }
      ]
    },
    {
      "cell_type": "code",
      "metadata": {
        "colab": {
          "base_uri": "https://localhost:8080/"
        },
        "id": "W1mRcTIcjxIN",
        "outputId": "57d67436-8a06-4157-be42-f32161ff3e80"
      },
      "source": [
        "# inference data baru\n",
        "\n",
        "sms_baru = [\n",
        "            \"hai bro, apa kabar ?\",\n",
        "            \"dapatkan kuota 1 GB per hari hanya Rp. 1000 dari aplikasi MyGSM\",\n",
        "            \"pesugihan halal, lipatgandakan uang anda dan lunasi hutang-hutang anda bersama saya\"\n",
        "]\n",
        "\n",
        "hasil = model_1.predict(sms_baru)\n",
        "hasil.argmax(axis=1)"
      ],
      "execution_count": null,
      "outputs": [
        {
          "output_type": "execute_result",
          "data": {
            "text/plain": [
              "array([0, 0, 0])"
            ]
          },
          "metadata": {},
          "execution_count": 58
        }
      ]
    },
    {
      "cell_type": "markdown",
      "metadata": {
        "id": "etJttyHYkQk0"
      },
      "source": [
        "## LSTM"
      ]
    },
    {
      "cell_type": "code",
      "metadata": {
        "id": "owvC758skK43"
      },
      "source": [
        "inputs = layers.Input(shape=(1,), dtype='string')\n",
        "x = text_vectorization(inputs)\n",
        "x = embedding(x)\n",
        "x = layers.LSTM(64)(x)\n",
        "outputs = layers.Dense(3, activation='softmax')(x)\n",
        "model_2 = tf.keras.Model(inputs, outputs, name=\"LSTM_model\")"
      ],
      "execution_count": null,
      "outputs": []
    },
    {
      "cell_type": "code",
      "metadata": {
        "colab": {
          "base_uri": "https://localhost:8080/"
        },
        "id": "2Ft6qnYFk8L9",
        "outputId": "a5a075f1-3497-45c8-904c-bde82356593f"
      },
      "source": [
        "model_2.summary()"
      ],
      "execution_count": null,
      "outputs": [
        {
          "output_type": "stream",
          "name": "stdout",
          "text": [
            "Model: \"LSTM_model\"\n",
            "_________________________________________________________________\n",
            "Layer (type)                 Output Shape              Param #   \n",
            "=================================================================\n",
            "input_4 (InputLayer)         [(None, 1)]               0         \n",
            "_________________________________________________________________\n",
            "text_vectorization_1 (TextVe (None, 17)                0         \n",
            "_________________________________________________________________\n",
            "embedding_1 (Embedding)      (None, 17, 128)           512000    \n",
            "_________________________________________________________________\n",
            "lstm (LSTM)                  (None, 64)                49408     \n",
            "_________________________________________________________________\n",
            "dense_2 (Dense)              (None, 3)                 195       \n",
            "=================================================================\n",
            "Total params: 561,603\n",
            "Trainable params: 561,603\n",
            "Non-trainable params: 0\n",
            "_________________________________________________________________\n"
          ]
        }
      ]
    },
    {
      "cell_type": "code",
      "metadata": {
        "id": "XWd34ilHk-YP"
      },
      "source": [
        "# compile model\n",
        "model_2.compile(loss='categorical_crossentropy',\n",
        "                optimizer=tf.keras.optimizers.Adam(),\n",
        "                metrics=[\"accuracy\"])"
      ],
      "execution_count": null,
      "outputs": []
    },
    {
      "cell_type": "code",
      "metadata": {
        "colab": {
          "base_uri": "https://localhost:8080/"
        },
        "id": "LuNaeWOBlEC4",
        "outputId": "f59208f1-1537-44e2-f6b6-e1f0b01a1cb3"
      },
      "source": [
        "model_2_hist = model_2.fit(train_sent,\n",
        "                           train_labels,\n",
        "                           epochs=5,\n",
        "                           validation_data=(val_sent, val_labels))"
      ],
      "execution_count": null,
      "outputs": [
        {
          "output_type": "stream",
          "name": "stdout",
          "text": [
            "Epoch 1/5\n",
            "23/23 [==============================] - 3s 46ms/step - loss: 0.6731 - accuracy: 0.7551 - val_loss: 0.4801 - val_accuracy: 0.7650\n",
            "Epoch 2/5\n",
            "23/23 [==============================] - 1s 22ms/step - loss: 0.2058 - accuracy: 0.9384 - val_loss: 0.2591 - val_accuracy: 0.9126\n",
            "Epoch 3/5\n",
            "23/23 [==============================] - 1s 23ms/step - loss: 0.0661 - accuracy: 0.9808 - val_loss: 0.2538 - val_accuracy: 0.9344\n",
            "Epoch 4/5\n",
            "23/23 [==============================] - 1s 22ms/step - loss: 0.0377 - accuracy: 0.9891 - val_loss: 0.2671 - val_accuracy: 0.9344\n",
            "Epoch 5/5\n",
            "23/23 [==============================] - 1s 23ms/step - loss: 0.0205 - accuracy: 0.9959 - val_loss: 0.2971 - val_accuracy: 0.9235\n"
          ]
        }
      ]
    },
    {
      "cell_type": "code",
      "metadata": {
        "colab": {
          "base_uri": "https://localhost:8080/"
        },
        "id": "77wsrmOrlL4j",
        "outputId": "b2b957ac-ae53-4a5c-8f8a-a532f3d43942"
      },
      "source": [
        "# inference data baru\n",
        "\n",
        "sms_baru = [\n",
        "            \"hai bro, apa kabar ?\",\n",
        "            \"dapatkan kuota 1 GB per hari hanya Rp. 1000 dari aplikasi MyGSM\",\n",
        "            \"pesugihan halal, lipatgandakan uang anda dan lunasi hutang-hutang anda bersama saya\"\n",
        "]\n",
        "\n",
        "hasil = model_2.predict(sms_baru)\n",
        "hasil.argmax(axis=1)"
      ],
      "execution_count": null,
      "outputs": [
        {
          "output_type": "execute_result",
          "data": {
            "text/plain": [
              "array([0, 2, 1])"
            ]
          },
          "metadata": {},
          "execution_count": 64
        }
      ]
    },
    {
      "cell_type": "markdown",
      "metadata": {
        "id": "JoPUxbATlkeH"
      },
      "source": [
        "## GRU\n"
      ]
    },
    {
      "cell_type": "code",
      "metadata": {
        "id": "OFqSzVYtlVP0"
      },
      "source": [
        "inputs = layers.Input(shape=(1,), dtype='string')\n",
        "x = text_vectorization(inputs)\n",
        "x = embedding(x)\n",
        "x = layers.GRU(64)(x)\n",
        "outputs = layers.Dense(3, activation='softmax')(x)\n",
        "model_3 = tf.keras.Model(inputs, outputs, name=\"GRU_model\")"
      ],
      "execution_count": null,
      "outputs": []
    },
    {
      "cell_type": "code",
      "metadata": {
        "id": "0ZDRVbyZlsj2"
      },
      "source": [
        "# compile model\n",
        "model_3.compile(loss='categorical_crossentropy',\n",
        "                optimizer=tf.keras.optimizers.Adam(),\n",
        "                metrics=[\"accuracy\"])"
      ],
      "execution_count": null,
      "outputs": []
    },
    {
      "cell_type": "code",
      "metadata": {
        "colab": {
          "base_uri": "https://localhost:8080/"
        },
        "id": "MKp_f1zKlwLi",
        "outputId": "3bf0cedd-6d70-4563-a8fe-5552c3fa7b11"
      },
      "source": [
        "model_3.summary()"
      ],
      "execution_count": null,
      "outputs": [
        {
          "output_type": "stream",
          "name": "stdout",
          "text": [
            "Model: \"GRU_model\"\n",
            "_________________________________________________________________\n",
            "Layer (type)                 Output Shape              Param #   \n",
            "=================================================================\n",
            "input_5 (InputLayer)         [(None, 1)]               0         \n",
            "_________________________________________________________________\n",
            "text_vectorization_1 (TextVe (None, 17)                0         \n",
            "_________________________________________________________________\n",
            "embedding_1 (Embedding)      (None, 17, 128)           512000    \n",
            "_________________________________________________________________\n",
            "gru (GRU)                    (None, 64)                37248     \n",
            "_________________________________________________________________\n",
            "dense_3 (Dense)              (None, 3)                 195       \n",
            "=================================================================\n",
            "Total params: 549,443\n",
            "Trainable params: 549,443\n",
            "Non-trainable params: 0\n",
            "_________________________________________________________________\n"
          ]
        }
      ]
    },
    {
      "cell_type": "code",
      "metadata": {
        "colab": {
          "base_uri": "https://localhost:8080/"
        },
        "id": "YyTiTbN7lyup",
        "outputId": "368a2dc1-f101-4edf-c073-ade5d6a666ac"
      },
      "source": [
        "model_3_hist = model_3.fit(train_sent,\n",
        "                           train_labels,\n",
        "                           epochs=5,\n",
        "                           validation_data=(val_sent, val_labels))"
      ],
      "execution_count": null,
      "outputs": [
        {
          "output_type": "stream",
          "name": "stdout",
          "text": [
            "Epoch 1/5\n",
            "23/23 [==============================] - 3s 43ms/step - loss: 0.7426 - accuracy: 0.7921 - val_loss: 0.5689 - val_accuracy: 0.8033\n",
            "Epoch 2/5\n",
            "23/23 [==============================] - 1s 22ms/step - loss: 0.2677 - accuracy: 0.9343 - val_loss: 0.2642 - val_accuracy: 0.9126\n",
            "Epoch 3/5\n",
            "23/23 [==============================] - 1s 22ms/step - loss: 0.0398 - accuracy: 0.9918 - val_loss: 0.3286 - val_accuracy: 0.9290\n",
            "Epoch 4/5\n",
            "23/23 [==============================] - 1s 22ms/step - loss: 0.0145 - accuracy: 0.9973 - val_loss: 0.2880 - val_accuracy: 0.9290\n",
            "Epoch 5/5\n",
            "23/23 [==============================] - 0s 21ms/step - loss: 0.0099 - accuracy: 0.9959 - val_loss: 0.3049 - val_accuracy: 0.9126\n"
          ]
        }
      ]
    },
    {
      "cell_type": "code",
      "metadata": {
        "colab": {
          "base_uri": "https://localhost:8080/"
        },
        "id": "TZpxI6tXmCl_",
        "outputId": "7afce2ee-6b29-46e8-fa29-8227df69834b"
      },
      "source": [
        "# inference data baru\n",
        "\n",
        "sms_baru = [\n",
        "            \"hai bro, apa kabar ?\",\n",
        "            \"dapatkan kuota 1 GB per hari hanya Rp. 1000 dari aplikasi MyGSM\",\n",
        "            \"pesugihan halal, lipatgandakan uang anda dan lunasi hutang-hutang anda bersama saya\"\n",
        "]\n",
        "\n",
        "hasil = model_3.predict(sms_baru)\n",
        "hasil.argmax(axis=1)"
      ],
      "execution_count": null,
      "outputs": [
        {
          "output_type": "execute_result",
          "data": {
            "text/plain": [
              "array([0, 2, 1])"
            ]
          },
          "metadata": {},
          "execution_count": 69
        }
      ]
    },
    {
      "cell_type": "code",
      "metadata": {
        "id": "SX7iulfNmRVv"
      },
      "source": [
        ""
      ],
      "execution_count": null,
      "outputs": []
    }
  ]
}